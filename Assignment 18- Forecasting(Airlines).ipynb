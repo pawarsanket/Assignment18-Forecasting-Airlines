{
 "cells": [
  {
   "cell_type": "code",
   "execution_count": 85,
   "id": "897d7266",
   "metadata": {},
   "outputs": [],
   "source": [
    "import numpy as np\n",
    "import matplotlib.pyplot as plt\n",
    "import statsmodels.api as sms\n",
    "import pandas as pd\n",
    "\n",
    "%matplotlib inline"
   ]
  },
  {
   "cell_type": "code",
   "execution_count": 86,
   "id": "58d7da88",
   "metadata": {},
   "outputs": [
    {
     "data": {
      "text/html": [
       "<div>\n",
       "<style scoped>\n",
       "    .dataframe tbody tr th:only-of-type {\n",
       "        vertical-align: middle;\n",
       "    }\n",
       "\n",
       "    .dataframe tbody tr th {\n",
       "        vertical-align: top;\n",
       "    }\n",
       "\n",
       "    .dataframe thead th {\n",
       "        text-align: right;\n",
       "    }\n",
       "</style>\n",
       "<table border=\"1\" class=\"dataframe\">\n",
       "  <thead>\n",
       "    <tr style=\"text-align: right;\">\n",
       "      <th></th>\n",
       "      <th>Month</th>\n",
       "      <th>Passengers</th>\n",
       "    </tr>\n",
       "  </thead>\n",
       "  <tbody>\n",
       "    <tr>\n",
       "      <th>0</th>\n",
       "      <td>1995-01-01</td>\n",
       "      <td>112</td>\n",
       "    </tr>\n",
       "    <tr>\n",
       "      <th>1</th>\n",
       "      <td>1995-02-01</td>\n",
       "      <td>118</td>\n",
       "    </tr>\n",
       "    <tr>\n",
       "      <th>2</th>\n",
       "      <td>1995-03-01</td>\n",
       "      <td>132</td>\n",
       "    </tr>\n",
       "    <tr>\n",
       "      <th>3</th>\n",
       "      <td>1995-04-01</td>\n",
       "      <td>129</td>\n",
       "    </tr>\n",
       "    <tr>\n",
       "      <th>4</th>\n",
       "      <td>1995-05-01</td>\n",
       "      <td>121</td>\n",
       "    </tr>\n",
       "  </tbody>\n",
       "</table>\n",
       "</div>"
      ],
      "text/plain": [
       "       Month  Passengers\n",
       "0 1995-01-01         112\n",
       "1 1995-02-01         118\n",
       "2 1995-03-01         132\n",
       "3 1995-04-01         129\n",
       "4 1995-05-01         121"
      ]
     },
     "execution_count": 86,
     "metadata": {},
     "output_type": "execute_result"
    }
   ],
   "source": [
    "df_airline=pd.read_excel('Airlines+Data.xlsx')\n",
    "df_airline.head()"
   ]
  },
  {
   "cell_type": "code",
   "execution_count": 87,
   "id": "b9ecd9bb",
   "metadata": {},
   "outputs": [
    {
     "data": {
      "text/html": [
       "<div>\n",
       "<style scoped>\n",
       "    .dataframe tbody tr th:only-of-type {\n",
       "        vertical-align: middle;\n",
       "    }\n",
       "\n",
       "    .dataframe tbody tr th {\n",
       "        vertical-align: top;\n",
       "    }\n",
       "\n",
       "    .dataframe thead th {\n",
       "        text-align: right;\n",
       "    }\n",
       "</style>\n",
       "<table border=\"1\" class=\"dataframe\">\n",
       "  <thead>\n",
       "    <tr style=\"text-align: right;\">\n",
       "      <th></th>\n",
       "      <th>Month</th>\n",
       "      <th>Passengers</th>\n",
       "    </tr>\n",
       "  </thead>\n",
       "  <tbody>\n",
       "    <tr>\n",
       "      <th>91</th>\n",
       "      <td>2002-08-01</td>\n",
       "      <td>405</td>\n",
       "    </tr>\n",
       "    <tr>\n",
       "      <th>92</th>\n",
       "      <td>2002-09-01</td>\n",
       "      <td>355</td>\n",
       "    </tr>\n",
       "    <tr>\n",
       "      <th>93</th>\n",
       "      <td>2002-10-01</td>\n",
       "      <td>306</td>\n",
       "    </tr>\n",
       "    <tr>\n",
       "      <th>94</th>\n",
       "      <td>2002-11-01</td>\n",
       "      <td>271</td>\n",
       "    </tr>\n",
       "    <tr>\n",
       "      <th>95</th>\n",
       "      <td>2002-12-01</td>\n",
       "      <td>306</td>\n",
       "    </tr>\n",
       "  </tbody>\n",
       "</table>\n",
       "</div>"
      ],
      "text/plain": [
       "        Month  Passengers\n",
       "91 2002-08-01         405\n",
       "92 2002-09-01         355\n",
       "93 2002-10-01         306\n",
       "94 2002-11-01         271\n",
       "95 2002-12-01         306"
      ]
     },
     "execution_count": 87,
     "metadata": {},
     "output_type": "execute_result"
    }
   ],
   "source": [
    "df_airline.tail()"
   ]
  },
  {
   "cell_type": "markdown",
   "id": "783baf36",
   "metadata": {},
   "source": [
    "# EDA"
   ]
  },
  {
   "cell_type": "code",
   "execution_count": 88,
   "id": "6178b298",
   "metadata": {},
   "outputs": [
    {
     "data": {
      "text/plain": [
       "Month         0\n",
       "Passengers    0\n",
       "dtype: int64"
      ]
     },
     "execution_count": 88,
     "metadata": {},
     "output_type": "execute_result"
    }
   ],
   "source": [
    "df_airline.isnull().sum()"
   ]
  },
  {
   "cell_type": "code",
   "execution_count": 89,
   "id": "7d2dd5f3",
   "metadata": {},
   "outputs": [
    {
     "name": "stdout",
     "output_type": "stream",
     "text": [
      "<class 'pandas.core.frame.DataFrame'>\n",
      "RangeIndex: 96 entries, 0 to 95\n",
      "Data columns (total 2 columns):\n",
      " #   Column      Non-Null Count  Dtype         \n",
      "---  ------      --------------  -----         \n",
      " 0   Month       96 non-null     datetime64[ns]\n",
      " 1   Passengers  96 non-null     int64         \n",
      "dtypes: datetime64[ns](1), int64(1)\n",
      "memory usage: 1.6 KB\n"
     ]
    }
   ],
   "source": [
    "df_airline.info()"
   ]
  },
  {
   "cell_type": "code",
   "execution_count": 90,
   "id": "a285298a",
   "metadata": {},
   "outputs": [],
   "source": [
    "#Get Month column as index of data\n",
    "df_airline.set_index('Month',inplace=True)"
   ]
  },
  {
   "cell_type": "code",
   "execution_count": 91,
   "id": "925e7ed0",
   "metadata": {},
   "outputs": [
    {
     "data": {
      "text/html": [
       "<div>\n",
       "<style scoped>\n",
       "    .dataframe tbody tr th:only-of-type {\n",
       "        vertical-align: middle;\n",
       "    }\n",
       "\n",
       "    .dataframe tbody tr th {\n",
       "        vertical-align: top;\n",
       "    }\n",
       "\n",
       "    .dataframe thead th {\n",
       "        text-align: right;\n",
       "    }\n",
       "</style>\n",
       "<table border=\"1\" class=\"dataframe\">\n",
       "  <thead>\n",
       "    <tr style=\"text-align: right;\">\n",
       "      <th></th>\n",
       "      <th>Passengers</th>\n",
       "    </tr>\n",
       "    <tr>\n",
       "      <th>Month</th>\n",
       "      <th></th>\n",
       "    </tr>\n",
       "  </thead>\n",
       "  <tbody>\n",
       "    <tr>\n",
       "      <th>1995-01-01</th>\n",
       "      <td>112</td>\n",
       "    </tr>\n",
       "    <tr>\n",
       "      <th>1995-02-01</th>\n",
       "      <td>118</td>\n",
       "    </tr>\n",
       "    <tr>\n",
       "      <th>1995-03-01</th>\n",
       "      <td>132</td>\n",
       "    </tr>\n",
       "    <tr>\n",
       "      <th>1995-04-01</th>\n",
       "      <td>129</td>\n",
       "    </tr>\n",
       "    <tr>\n",
       "      <th>1995-05-01</th>\n",
       "      <td>121</td>\n",
       "    </tr>\n",
       "  </tbody>\n",
       "</table>\n",
       "</div>"
      ],
      "text/plain": [
       "            Passengers\n",
       "Month                 \n",
       "1995-01-01         112\n",
       "1995-02-01         118\n",
       "1995-03-01         132\n",
       "1995-04-01         129\n",
       "1995-05-01         121"
      ]
     },
     "execution_count": 91,
     "metadata": {},
     "output_type": "execute_result"
    }
   ],
   "source": [
    "df_airline.head()"
   ]
  },
  {
   "cell_type": "markdown",
   "id": "cb998929",
   "metadata": {},
   "source": [
    "# Viz"
   ]
  },
  {
   "cell_type": "code",
   "execution_count": 92,
   "id": "c7e98351",
   "metadata": {},
   "outputs": [
    {
     "data": {
      "text/plain": [
       "<AxesSubplot: xlabel='Month'>"
      ]
     },
     "execution_count": 92,
     "metadata": {},
     "output_type": "execute_result"
    },
    {
     "data": {
      "image/png": "[encoded data removed]",
      "text/plain": [
       "<Figure size 432x288 with 1 Axes>"
      ]
     },
     "metadata": {
      "needs_background": "light"
     },
     "output_type": "display_data"
    }
   ],
   "source": [
    "df_airline.plot()"
   ]
  },
  {
   "cell_type": "markdown",
   "id": "2baf9dd8",
   "metadata": {},
   "source": [
    "### Histogram"
   ]
  },
  {
   "cell_type": "code",
   "execution_count": 93,
   "id": "de03f580",
   "metadata": {},
   "outputs": [
    {
     "data": {
      "image/png": "[encoded data removed]",
      "text/plain": [
       "<Figure size 432x288 with 1 Axes>"
      ]
     },
     "metadata": {
      "needs_background": "light"
     },
     "output_type": "display_data"
    }
   ],
   "source": [
    "df_airline.hist()\n",
    "plt.show()"
   ]
  },
  {
   "cell_type": "markdown",
   "id": "00579924",
   "metadata": {},
   "source": [
    "### Distplot"
   ]
  },
  {
   "cell_type": "code",
   "execution_count": 94,
   "id": "806a4da3",
   "metadata": {},
   "outputs": [
    {
     "data": {
      "image/png": "[encoded data removed]",
      "text/plain": [
       "<Figure size 432x288 with 1 Axes>"
      ]
     },
     "metadata": {
      "needs_background": "light"
     },
     "output_type": "display_data"
    }
   ],
   "source": [
    "df_airline.plot(kind='kde')\n",
    "plt.show()"
   ]
  },
  {
   "cell_type": "markdown",
   "id": "2af121ea",
   "metadata": {},
   "source": [
    "### Lagplot"
   ]
  },
  {
   "cell_type": "code",
   "execution_count": 95,
   "id": "4fe40c73",
   "metadata": {},
   "outputs": [
    {
     "data": {
      "text/plain": [
       "<AxesSubplot: xlabel='y(t)', ylabel='y(t + 1)'>"
      ]
     },
     "execution_count": 95,
     "metadata": {},
     "output_type": "execute_result"
    },
    {
     "data": {
      "image/png": "[encoded data removed]",
      "text/plain": [
       "<Figure size 432x288 with 1 Axes>"
      ]
     },
     "metadata": {
      "needs_background": "light"
     },
     "output_type": "display_data"
    }
   ],
   "source": [
    "from pandas.plotting import lag_plot\n",
    "lag_plot(df_airline)"
   ]
  },
  {
   "cell_type": "code",
   "execution_count": 96,
   "id": "6e263311",
   "metadata": {},
   "outputs": [
    {
     "data": {
      "text/html": [
       "<div>\n",
       "<style scoped>\n",
       "    .dataframe tbody tr th:only-of-type {\n",
       "        vertical-align: middle;\n",
       "    }\n",
       "\n",
       "    .dataframe tbody tr th {\n",
       "        vertical-align: top;\n",
       "    }\n",
       "\n",
       "    .dataframe thead th {\n",
       "        text-align: right;\n",
       "    }\n",
       "</style>\n",
       "<table border=\"1\" class=\"dataframe\">\n",
       "  <thead>\n",
       "    <tr style=\"text-align: right;\">\n",
       "      <th></th>\n",
       "      <th>Month</th>\n",
       "      <th>Passengers</th>\n",
       "    </tr>\n",
       "  </thead>\n",
       "  <tbody>\n",
       "    <tr>\n",
       "      <th>0</th>\n",
       "      <td>1995-01-01</td>\n",
       "      <td>112</td>\n",
       "    </tr>\n",
       "    <tr>\n",
       "      <th>1</th>\n",
       "      <td>1995-02-01</td>\n",
       "      <td>118</td>\n",
       "    </tr>\n",
       "    <tr>\n",
       "      <th>2</th>\n",
       "      <td>1995-03-01</td>\n",
       "      <td>132</td>\n",
       "    </tr>\n",
       "    <tr>\n",
       "      <th>3</th>\n",
       "      <td>1995-04-01</td>\n",
       "      <td>129</td>\n",
       "    </tr>\n",
       "    <tr>\n",
       "      <th>4</th>\n",
       "      <td>1995-05-01</td>\n",
       "      <td>121</td>\n",
       "    </tr>\n",
       "  </tbody>\n",
       "</table>\n",
       "</div>"
      ],
      "text/plain": [
       "       Month  Passengers\n",
       "0 1995-01-01         112\n",
       "1 1995-02-01         118\n",
       "2 1995-03-01         132\n",
       "3 1995-04-01         129\n",
       "4 1995-05-01         121"
      ]
     },
     "execution_count": 96,
     "metadata": {},
     "output_type": "execute_result"
    }
   ],
   "source": [
    "airline=pd.read_excel('Airlines+Data.xlsx')\n",
    "airline.head()"
   ]
  },
  {
   "cell_type": "code",
   "execution_count": 97,
   "id": "ff01fdd2",
   "metadata": {},
   "outputs": [
    {
     "data": {
      "text/html": [
       "<div>\n",
       "<style scoped>\n",
       "    .dataframe tbody tr th:only-of-type {\n",
       "        vertical-align: middle;\n",
       "    }\n",
       "\n",
       "    .dataframe tbody tr th {\n",
       "        vertical-align: top;\n",
       "    }\n",
       "\n",
       "    .dataframe thead th {\n",
       "        text-align: right;\n",
       "    }\n",
       "</style>\n",
       "<table border=\"1\" class=\"dataframe\">\n",
       "  <thead>\n",
       "    <tr style=\"text-align: right;\">\n",
       "      <th></th>\n",
       "      <th>Month</th>\n",
       "      <th>Passengers</th>\n",
       "      <th>month</th>\n",
       "      <th>year</th>\n",
       "    </tr>\n",
       "  </thead>\n",
       "  <tbody>\n",
       "    <tr>\n",
       "      <th>0</th>\n",
       "      <td>1995-01-01</td>\n",
       "      <td>112</td>\n",
       "      <td>Jan</td>\n",
       "      <td>1995</td>\n",
       "    </tr>\n",
       "    <tr>\n",
       "      <th>1</th>\n",
       "      <td>1995-02-01</td>\n",
       "      <td>118</td>\n",
       "      <td>Feb</td>\n",
       "      <td>1995</td>\n",
       "    </tr>\n",
       "    <tr>\n",
       "      <th>2</th>\n",
       "      <td>1995-03-01</td>\n",
       "      <td>132</td>\n",
       "      <td>Mar</td>\n",
       "      <td>1995</td>\n",
       "    </tr>\n",
       "    <tr>\n",
       "      <th>3</th>\n",
       "      <td>1995-04-01</td>\n",
       "      <td>129</td>\n",
       "      <td>Apr</td>\n",
       "      <td>1995</td>\n",
       "    </tr>\n",
       "    <tr>\n",
       "      <th>4</th>\n",
       "      <td>1995-05-01</td>\n",
       "      <td>121</td>\n",
       "      <td>May</td>\n",
       "      <td>1995</td>\n",
       "    </tr>\n",
       "  </tbody>\n",
       "</table>\n",
       "</div>"
      ],
      "text/plain": [
       "       Month  Passengers month  year\n",
       "0 1995-01-01         112   Jan  1995\n",
       "1 1995-02-01         118   Feb  1995\n",
       "2 1995-03-01         132   Mar  1995\n",
       "3 1995-04-01         129   Apr  1995\n",
       "4 1995-05-01         121   May  1995"
      ]
     },
     "execution_count": 97,
     "metadata": {},
     "output_type": "execute_result"
    }
   ],
   "source": [
    "#Get month and year columns in our data\n",
    "\n",
    "airline[\"month\"] = airline.Month.dt.strftime(\"%b\") # month extraction\n",
    "airline[\"year\"] = airline.Month.dt.strftime(\"%Y\") # year extraction\n",
    "airline.head()"
   ]
  },
  {
   "cell_type": "markdown",
   "id": "d973bbe0",
   "metadata": {},
   "source": [
    "### Heatmap"
   ]
  },
  {
   "cell_type": "code",
   "execution_count": 98,
   "id": "517ec1dc",
   "metadata": {},
   "outputs": [
    {
     "data": {
      "text/plain": [
       "<AxesSubplot: xlabel='month', ylabel='year'>"
      ]
     },
     "execution_count": 98,
     "metadata": {},
     "output_type": "execute_result"
    },
    {
     "data": {
      "image/png": "[encoded data removed]",
      "text/plain": [
       "<Figure size 864x576 with 2 Axes>"
      ]
     },
     "metadata": {
      "needs_background": "light"
     },
     "output_type": "display_data"
    }
   ],
   "source": [
    "import seaborn as sns\n",
    "plt.figure(figsize=(12,8))\n",
    "heatmap_y_month = pd.pivot_table(data=airline,values=\"Passengers\",index=\"year\",columns=\"month\",aggfunc=\"mean\",fill_value=0)\n",
    "sns.heatmap(heatmap_y_month,annot=True,fmt=\"g\") #fmt is format of the grid values"
   ]
  },
  {
   "cell_type": "markdown",
   "id": "1473196d",
   "metadata": {},
   "source": [
    "#### Years 2000 and after have higher number of passengers.\n",
    "#### Jul and Aug have high passengers and Nov and Dec have lower passengers tarvelling"
   ]
  },
  {
   "cell_type": "markdown",
   "id": "8803e376",
   "metadata": {},
   "source": [
    "### Boxplot"
   ]
  },
  {
   "cell_type": "code",
   "execution_count": 99,
   "id": "ca6bf87a",
   "metadata": {},
   "outputs": [
    {
     "data": {
      "text/plain": [
       "<AxesSubplot: xlabel='year', ylabel='Passengers'>"
      ]
     },
     "execution_count": 99,
     "metadata": {},
     "output_type": "execute_result"
    },
    {
     "data": {
      "image/png": "[encoded data removed]",
      "text/plain": [
       "<Figure size 576x432 with 2 Axes>"
      ]
     },
     "metadata": {
      "needs_background": "light"
     },
     "output_type": "display_data"
    }
   ],
   "source": [
    "plt.figure(figsize=(8,6))\n",
    "plt.subplot(211)\n",
    "sns.boxplot(x=\"month\",y=\"Passengers\",data=airline)\n",
    "plt.subplot(212)\n",
    "sns.boxplot(x=\"year\",y=\"Passengers\",data=airline)"
   ]
  },
  {
   "cell_type": "code",
   "execution_count": 100,
   "id": "bf11c4d4",
   "metadata": {},
   "outputs": [
    {
     "data": {
      "text/plain": [
       "<AxesSubplot: xlabel='year', ylabel='Passengers'>"
      ]
     },
     "execution_count": 100,
     "metadata": {},
     "output_type": "execute_result"
    },
    {
     "data": {
      "image/png": "[encoded data removed]",
      "text/plain": [
       "<Figure size 864x216 with 1 Axes>"
      ]
     },
     "metadata": {
      "needs_background": "light"
     },
     "output_type": "display_data"
    }
   ],
   "source": [
    "plt.figure(figsize=(12,3))\n",
    "sns.lineplot(x=\"year\",y=\"Passengers\",data=airline)"
   ]
  },
  {
   "cell_type": "markdown",
   "id": "60b0536c",
   "metadata": {},
   "source": [
    "### Moving Average"
   ]
  },
  {
   "cell_type": "code",
   "execution_count": 101,
   "id": "555a188a",
   "metadata": {},
   "outputs": [
    {
     "data": {
      "text/plain": [
       "<matplotlib.legend.Legend at 0x2709b7dcd60>"
      ]
     },
     "execution_count": 101,
     "metadata": {},
     "output_type": "execute_result"
    },
    {
     "data": {
      "image/png": "[encoded data removed]",
      "text/plain": [
       "<Figure size 864x288 with 1 Axes>"
      ]
     },
     "metadata": {
      "needs_background": "light"
     },
     "output_type": "display_data"
    }
   ],
   "source": [
    "#Smoothning of the graph\n",
    "plt.figure(figsize=(12,4))\n",
    "airline.Passengers.plot(label=\"org\")\n",
    "for i in range(2,30,8):\n",
    "    airline[\"Passengers\"].rolling(i).mean().plot(label=str(i))\n",
    "plt.legend(loc='best')"
   ]
  },
  {
   "cell_type": "markdown",
   "id": "b70c337a",
   "metadata": {},
   "source": [
    "### Time series decomposition plot"
   ]
  },
  {
   "cell_type": "code",
   "execution_count": 102,
   "id": "c5a2fdaf",
   "metadata": {},
   "outputs": [
    {
     "data": {
      "image/png": "[encoded data removed]",
      "text/plain": [
       "<Figure size 432x288 with 4 Axes>"
      ]
     },
     "metadata": {
      "needs_background": "light"
     },
     "output_type": "display_data"
    }
   ],
   "source": [
    "from statsmodels.tsa.seasonal import seasonal_decompose\n",
    "decompose_ts_add = seasonal_decompose(airline.Passengers,period=12)\n",
    "decompose_ts_add.plot()\n",
    "plt.show() "
   ]
  },
  {
   "cell_type": "markdown",
   "id": "b1c02f62",
   "metadata": {},
   "source": [
    "### ACF Plot"
   ]
  },
  {
   "cell_type": "code",
   "execution_count": 103,
   "id": "2a38ed34",
   "metadata": {},
   "outputs": [
    {
     "data": {
      "image/png": "[encoded data removed]",
      "text/plain": [
       "<Figure size 432x288 with 1 Axes>"
      ]
     },
     "metadata": {
      "needs_background": "light"
     },
     "output_type": "display_data"
    }
   ],
   "source": [
    "from statsmodels.graphics.tsaplots import plot_acf,plot_pacf\n",
    "acf = plot_acf(airline[\"Passengers\"]) "
   ]
  },
  {
   "cell_type": "markdown",
   "id": "4cf51375",
   "metadata": {},
   "source": [
    "### PACF Plot"
   ]
  },
  {
   "cell_type": "code",
   "execution_count": 104,
   "id": "08cc25b8",
   "metadata": {},
   "outputs": [
    {
     "name": "stderr",
     "output_type": "stream",
     "text": [
      "C:\\Users\\USER\\anaconda3\\lib\\site-packages\\statsmodels\\graphics\\tsaplots.py:348: FutureWarning: The default method 'yw' can produce PACF values outside of the [-1,1] interval. After 0.13, the default will change tounadjusted Yule-Walker ('ywm'). You can use this method now by setting method='ywm'.\n",
      "  warnings.warn(\n"
     ]
    },
    {
     "data": {
      "image/png": "[encoded data removed]",
      "text/plain": [
       "<Figure size 432x288 with 1 Axes>"
      ]
     },
     "metadata": {
      "needs_background": "light"
     },
     "output_type": "display_data"
    }
   ],
   "source": [
    "pacf = plot_pacf(airline[\"Passengers\"]) "
   ]
  },
  {
   "cell_type": "markdown",
   "id": "5219c406",
   "metadata": {},
   "source": [
    "# Forecasting Model Based Methods"
   ]
  },
  {
   "cell_type": "markdown",
   "id": "3adb99f3",
   "metadata": {},
   "source": [
    "### Data preprocessing"
   ]
  },
  {
   "cell_type": "code",
   "execution_count": 105,
   "id": "af89d47e",
   "metadata": {},
   "outputs": [
    {
     "data": {
      "text/plain": [
       "(96, 4)"
      ]
     },
     "execution_count": 105,
     "metadata": {},
     "output_type": "execute_result"
    }
   ],
   "source": [
    "airline.shape"
   ]
  },
  {
   "cell_type": "code",
   "execution_count": 106,
   "id": "5c976c52",
   "metadata": {},
   "outputs": [
    {
     "name": "stdout",
     "output_type": "stream",
     "text": [
      "<class 'pandas.core.frame.DataFrame'>\n",
      "RangeIndex: 96 entries, 0 to 95\n",
      "Data columns (total 4 columns):\n",
      " #   Column      Non-Null Count  Dtype         \n",
      "---  ------      --------------  -----         \n",
      " 0   Month       96 non-null     datetime64[ns]\n",
      " 1   Passengers  96 non-null     int64         \n",
      " 2   month       96 non-null     object        \n",
      " 3   year        96 non-null     object        \n",
      "dtypes: datetime64[ns](1), int64(1), object(2)\n",
      "memory usage: 3.1+ KB\n"
     ]
    }
   ],
   "source": [
    "airline.info()"
   ]
  },
  {
   "cell_type": "code",
   "execution_count": 107,
   "id": "0f438325",
   "metadata": {},
   "outputs": [],
   "source": [
    "#Convert dtype of year \n",
    "airline['year'] = airline['year'].astype(\"int64\")"
   ]
  },
  {
   "cell_type": "code",
   "execution_count": 108,
   "id": "8b017cb0",
   "metadata": {},
   "outputs": [
    {
     "name": "stdout",
     "output_type": "stream",
     "text": [
      "<class 'pandas.core.frame.DataFrame'>\n",
      "RangeIndex: 96 entries, 0 to 95\n",
      "Data columns (total 4 columns):\n",
      " #   Column      Non-Null Count  Dtype         \n",
      "---  ------      --------------  -----         \n",
      " 0   Month       96 non-null     datetime64[ns]\n",
      " 1   Passengers  96 non-null     int64         \n",
      " 2   month       96 non-null     object        \n",
      " 3   year        96 non-null     int64         \n",
      "dtypes: datetime64[ns](1), int64(2), object(1)\n",
      "memory usage: 3.1+ KB\n"
     ]
    }
   ],
   "source": [
    "airline.info()"
   ]
  },
  {
   "cell_type": "markdown",
   "id": "021369b4",
   "metadata": {},
   "source": [
    "### Creating dummy variables"
   ]
  },
  {
   "cell_type": "code",
   "execution_count": 109,
   "id": "d98a6e5b",
   "metadata": {},
   "outputs": [
    {
     "data": {
      "text/html": [
       "<div>\n",
       "<style scoped>\n",
       "    .dataframe tbody tr th:only-of-type {\n",
       "        vertical-align: middle;\n",
       "    }\n",
       "\n",
       "    .dataframe tbody tr th {\n",
       "        vertical-align: top;\n",
       "    }\n",
       "\n",
       "    .dataframe thead th {\n",
       "        text-align: right;\n",
       "    }\n",
       "</style>\n",
       "<table border=\"1\" class=\"dataframe\">\n",
       "  <thead>\n",
       "    <tr style=\"text-align: right;\">\n",
       "      <th></th>\n",
       "      <th>Month</th>\n",
       "      <th>Passengers</th>\n",
       "      <th>year</th>\n",
       "      <th>month_Apr</th>\n",
       "      <th>month_Aug</th>\n",
       "      <th>month_Dec</th>\n",
       "      <th>month_Feb</th>\n",
       "      <th>month_Jan</th>\n",
       "      <th>month_Jul</th>\n",
       "      <th>month_Jun</th>\n",
       "      <th>month_Mar</th>\n",
       "      <th>month_May</th>\n",
       "      <th>month_Nov</th>\n",
       "      <th>month_Oct</th>\n",
       "      <th>month_Sep</th>\n",
       "    </tr>\n",
       "  </thead>\n",
       "  <tbody>\n",
       "    <tr>\n",
       "      <th>0</th>\n",
       "      <td>1995-01-01</td>\n",
       "      <td>112</td>\n",
       "      <td>1995</td>\n",
       "      <td>0</td>\n",
       "      <td>0</td>\n",
       "      <td>0</td>\n",
       "      <td>0</td>\n",
       "      <td>1</td>\n",
       "      <td>0</td>\n",
       "      <td>0</td>\n",
       "      <td>0</td>\n",
       "      <td>0</td>\n",
       "      <td>0</td>\n",
       "      <td>0</td>\n",
       "      <td>0</td>\n",
       "    </tr>\n",
       "    <tr>\n",
       "      <th>1</th>\n",
       "      <td>1995-02-01</td>\n",
       "      <td>118</td>\n",
       "      <td>1995</td>\n",
       "      <td>0</td>\n",
       "      <td>0</td>\n",
       "      <td>0</td>\n",
       "      <td>1</td>\n",
       "      <td>0</td>\n",
       "      <td>0</td>\n",
       "      <td>0</td>\n",
       "      <td>0</td>\n",
       "      <td>0</td>\n",
       "      <td>0</td>\n",
       "      <td>0</td>\n",
       "      <td>0</td>\n",
       "    </tr>\n",
       "    <tr>\n",
       "      <th>2</th>\n",
       "      <td>1995-03-01</td>\n",
       "      <td>132</td>\n",
       "      <td>1995</td>\n",
       "      <td>0</td>\n",
       "      <td>0</td>\n",
       "      <td>0</td>\n",
       "      <td>0</td>\n",
       "      <td>0</td>\n",
       "      <td>0</td>\n",
       "      <td>0</td>\n",
       "      <td>1</td>\n",
       "      <td>0</td>\n",
       "      <td>0</td>\n",
       "      <td>0</td>\n",
       "      <td>0</td>\n",
       "    </tr>\n",
       "    <tr>\n",
       "      <th>3</th>\n",
       "      <td>1995-04-01</td>\n",
       "      <td>129</td>\n",
       "      <td>1995</td>\n",
       "      <td>1</td>\n",
       "      <td>0</td>\n",
       "      <td>0</td>\n",
       "      <td>0</td>\n",
       "      <td>0</td>\n",
       "      <td>0</td>\n",
       "      <td>0</td>\n",
       "      <td>0</td>\n",
       "      <td>0</td>\n",
       "      <td>0</td>\n",
       "      <td>0</td>\n",
       "      <td>0</td>\n",
       "    </tr>\n",
       "    <tr>\n",
       "      <th>4</th>\n",
       "      <td>1995-05-01</td>\n",
       "      <td>121</td>\n",
       "      <td>1995</td>\n",
       "      <td>0</td>\n",
       "      <td>0</td>\n",
       "      <td>0</td>\n",
       "      <td>0</td>\n",
       "      <td>0</td>\n",
       "      <td>0</td>\n",
       "      <td>0</td>\n",
       "      <td>0</td>\n",
       "      <td>1</td>\n",
       "      <td>0</td>\n",
       "      <td>0</td>\n",
       "      <td>0</td>\n",
       "    </tr>\n",
       "    <tr>\n",
       "      <th>...</th>\n",
       "      <td>...</td>\n",
       "      <td>...</td>\n",
       "      <td>...</td>\n",
       "      <td>...</td>\n",
       "      <td>...</td>\n",
       "      <td>...</td>\n",
       "      <td>...</td>\n",
       "      <td>...</td>\n",
       "      <td>...</td>\n",
       "      <td>...</td>\n",
       "      <td>...</td>\n",
       "      <td>...</td>\n",
       "      <td>...</td>\n",
       "      <td>...</td>\n",
       "      <td>...</td>\n",
       "    </tr>\n",
       "    <tr>\n",
       "      <th>91</th>\n",
       "      <td>2002-08-01</td>\n",
       "      <td>405</td>\n",
       "      <td>2002</td>\n",
       "      <td>0</td>\n",
       "      <td>1</td>\n",
       "      <td>0</td>\n",
       "      <td>0</td>\n",
       "      <td>0</td>\n",
       "      <td>0</td>\n",
       "      <td>0</td>\n",
       "      <td>0</td>\n",
       "      <td>0</td>\n",
       "      <td>0</td>\n",
       "      <td>0</td>\n",
       "      <td>0</td>\n",
       "    </tr>\n",
       "    <tr>\n",
       "      <th>92</th>\n",
       "      <td>2002-09-01</td>\n",
       "      <td>355</td>\n",
       "      <td>2002</td>\n",
       "      <td>0</td>\n",
       "      <td>0</td>\n",
       "      <td>0</td>\n",
       "      <td>0</td>\n",
       "      <td>0</td>\n",
       "      <td>0</td>\n",
       "      <td>0</td>\n",
       "      <td>0</td>\n",
       "      <td>0</td>\n",
       "      <td>0</td>\n",
       "      <td>0</td>\n",
       "      <td>1</td>\n",
       "    </tr>\n",
       "    <tr>\n",
       "      <th>93</th>\n",
       "      <td>2002-10-01</td>\n",
       "      <td>306</td>\n",
       "      <td>2002</td>\n",
       "      <td>0</td>\n",
       "      <td>0</td>\n",
       "      <td>0</td>\n",
       "      <td>0</td>\n",
       "      <td>0</td>\n",
       "      <td>0</td>\n",
       "      <td>0</td>\n",
       "      <td>0</td>\n",
       "      <td>0</td>\n",
       "      <td>0</td>\n",
       "      <td>1</td>\n",
       "      <td>0</td>\n",
       "    </tr>\n",
       "    <tr>\n",
       "      <th>94</th>\n",
       "      <td>2002-11-01</td>\n",
       "      <td>271</td>\n",
       "      <td>2002</td>\n",
       "      <td>0</td>\n",
       "      <td>0</td>\n",
       "      <td>0</td>\n",
       "      <td>0</td>\n",
       "      <td>0</td>\n",
       "      <td>0</td>\n",
       "      <td>0</td>\n",
       "      <td>0</td>\n",
       "      <td>0</td>\n",
       "      <td>1</td>\n",
       "      <td>0</td>\n",
       "      <td>0</td>\n",
       "    </tr>\n",
       "    <tr>\n",
       "      <th>95</th>\n",
       "      <td>2002-12-01</td>\n",
       "      <td>306</td>\n",
       "      <td>2002</td>\n",
       "      <td>0</td>\n",
       "      <td>0</td>\n",
       "      <td>1</td>\n",
       "      <td>0</td>\n",
       "      <td>0</td>\n",
       "      <td>0</td>\n",
       "      <td>0</td>\n",
       "      <td>0</td>\n",
       "      <td>0</td>\n",
       "      <td>0</td>\n",
       "      <td>0</td>\n",
       "      <td>0</td>\n",
       "    </tr>\n",
       "  </tbody>\n",
       "</table>\n",
       "<p>96 rows × 15 columns</p>\n",
       "</div>"
      ],
      "text/plain": [
       "        Month  Passengers  year  month_Apr  month_Aug  month_Dec  month_Feb  \\\n",
       "0  1995-01-01         112  1995          0          0          0          0   \n",
       "1  1995-02-01         118  1995          0          0          0          1   \n",
       "2  1995-03-01         132  1995          0          0          0          0   \n",
       "3  1995-04-01         129  1995          1          0          0          0   \n",
       "4  1995-05-01         121  1995          0          0          0          0   \n",
       "..        ...         ...   ...        ...        ...        ...        ...   \n",
       "91 2002-08-01         405  2002          0          1          0          0   \n",
       "92 2002-09-01         355  2002          0          0          0          0   \n",
       "93 2002-10-01         306  2002          0          0          0          0   \n",
       "94 2002-11-01         271  2002          0          0          0          0   \n",
       "95 2002-12-01         306  2002          0          0          1          0   \n",
       "\n",
       "    month_Jan  month_Jul  month_Jun  month_Mar  month_May  month_Nov  \\\n",
       "0           1          0          0          0          0          0   \n",
       "1           0          0          0          0          0          0   \n",
       "2           0          0          0          1          0          0   \n",
       "3           0          0          0          0          0          0   \n",
       "4           0          0          0          0          1          0   \n",
       "..        ...        ...        ...        ...        ...        ...   \n",
       "91          0          0          0          0          0          0   \n",
       "92          0          0          0          0          0          0   \n",
       "93          0          0          0          0          0          0   \n",
       "94          0          0          0          0          0          1   \n",
       "95          0          0          0          0          0          0   \n",
       "\n",
       "    month_Oct  month_Sep  \n",
       "0           0          0  \n",
       "1           0          0  \n",
       "2           0          0  \n",
       "3           0          0  \n",
       "4           0          0  \n",
       "..        ...        ...  \n",
       "91          0          0  \n",
       "92          0          1  \n",
       "93          1          0  \n",
       "94          0          0  \n",
       "95          0          0  \n",
       "\n",
       "[96 rows x 15 columns]"
      ]
     },
     "execution_count": 109,
     "metadata": {},
     "output_type": "execute_result"
    }
   ],
   "source": [
    "#OHE for month column\n",
    "airline1 = pd.get_dummies(airline)\n",
    "airline1"
   ]
  },
  {
   "cell_type": "code",
   "execution_count": 110,
   "id": "b5916fd0",
   "metadata": {},
   "outputs": [],
   "source": [
    "x=np.arange(1,97)"
   ]
  },
  {
   "cell_type": "code",
   "execution_count": 111,
   "id": "6898fc57",
   "metadata": {},
   "outputs": [
    {
     "data": {
      "text/plain": [
       "0      1\n",
       "1      2\n",
       "2      3\n",
       "3      4\n",
       "4      5\n",
       "      ..\n",
       "91    92\n",
       "92    93\n",
       "93    94\n",
       "94    95\n",
       "95    96\n",
       "Length: 96, dtype: int32"
      ]
     },
     "execution_count": 111,
     "metadata": {},
     "output_type": "execute_result"
    }
   ],
   "source": [
    "#timesteps\n",
    "t=pd.Series(data=x)\n",
    "t"
   ]
  },
  {
   "cell_type": "code",
   "execution_count": 112,
   "id": "19623667",
   "metadata": {},
   "outputs": [
    {
     "data": {
      "text/plain": [
       "0        1\n",
       "1        4\n",
       "2        9\n",
       "3       16\n",
       "4       25\n",
       "      ... \n",
       "91    8464\n",
       "92    8649\n",
       "93    8836\n",
       "94    9025\n",
       "95    9216\n",
       "Length: 96, dtype: int32"
      ]
     },
     "execution_count": 112,
     "metadata": {},
     "output_type": "execute_result"
    }
   ],
   "source": [
    "#timesteps square values\n",
    "t_sqr=pd.Series(data=(x*x))\n",
    "t_sqr"
   ]
  },
  {
   "cell_type": "code",
   "execution_count": 113,
   "id": "5b46b5e0",
   "metadata": {},
   "outputs": [],
   "source": [
    "#log of number of passengers\n",
    "airline1['log_passengers'] = np.log(airline1['Passengers'])"
   ]
  },
  {
   "cell_type": "code",
   "execution_count": 114,
   "id": "a378ef1a",
   "metadata": {},
   "outputs": [],
   "source": [
    "airline1['t'] = t"
   ]
  },
  {
   "cell_type": "code",
   "execution_count": 115,
   "id": "b466afa4",
   "metadata": {},
   "outputs": [],
   "source": [
    "airline1['t_sqr'] = t_sqr"
   ]
  },
  {
   "cell_type": "code",
   "execution_count": 116,
   "id": "1d43034c",
   "metadata": {},
   "outputs": [
    {
     "data": {
      "text/html": [
       "<div>\n",
       "<style scoped>\n",
       "    .dataframe tbody tr th:only-of-type {\n",
       "        vertical-align: middle;\n",
       "    }\n",
       "\n",
       "    .dataframe tbody tr th {\n",
       "        vertical-align: top;\n",
       "    }\n",
       "\n",
       "    .dataframe thead th {\n",
       "        text-align: right;\n",
       "    }\n",
       "</style>\n",
       "<table border=\"1\" class=\"dataframe\">\n",
       "  <thead>\n",
       "    <tr style=\"text-align: right;\">\n",
       "      <th></th>\n",
       "      <th>Month</th>\n",
       "      <th>Passengers</th>\n",
       "      <th>year</th>\n",
       "      <th>month_Apr</th>\n",
       "      <th>month_Aug</th>\n",
       "      <th>month_Dec</th>\n",
       "      <th>month_Feb</th>\n",
       "      <th>month_Jan</th>\n",
       "      <th>month_Jul</th>\n",
       "      <th>month_Jun</th>\n",
       "      <th>month_Mar</th>\n",
       "      <th>month_May</th>\n",
       "      <th>month_Nov</th>\n",
       "      <th>month_Oct</th>\n",
       "      <th>month_Sep</th>\n",
       "      <th>log_passengers</th>\n",
       "      <th>t</th>\n",
       "      <th>t_sqr</th>\n",
       "    </tr>\n",
       "  </thead>\n",
       "  <tbody>\n",
       "    <tr>\n",
       "      <th>0</th>\n",
       "      <td>1995-01-01</td>\n",
       "      <td>112</td>\n",
       "      <td>1995</td>\n",
       "      <td>0</td>\n",
       "      <td>0</td>\n",
       "      <td>0</td>\n",
       "      <td>0</td>\n",
       "      <td>1</td>\n",
       "      <td>0</td>\n",
       "      <td>0</td>\n",
       "      <td>0</td>\n",
       "      <td>0</td>\n",
       "      <td>0</td>\n",
       "      <td>0</td>\n",
       "      <td>0</td>\n",
       "      <td>4.718499</td>\n",
       "      <td>1</td>\n",
       "      <td>1</td>\n",
       "    </tr>\n",
       "    <tr>\n",
       "      <th>1</th>\n",
       "      <td>1995-02-01</td>\n",
       "      <td>118</td>\n",
       "      <td>1995</td>\n",
       "      <td>0</td>\n",
       "      <td>0</td>\n",
       "      <td>0</td>\n",
       "      <td>1</td>\n",
       "      <td>0</td>\n",
       "      <td>0</td>\n",
       "      <td>0</td>\n",
       "      <td>0</td>\n",
       "      <td>0</td>\n",
       "      <td>0</td>\n",
       "      <td>0</td>\n",
       "      <td>0</td>\n",
       "      <td>4.770685</td>\n",
       "      <td>2</td>\n",
       "      <td>4</td>\n",
       "    </tr>\n",
       "    <tr>\n",
       "      <th>2</th>\n",
       "      <td>1995-03-01</td>\n",
       "      <td>132</td>\n",
       "      <td>1995</td>\n",
       "      <td>0</td>\n",
       "      <td>0</td>\n",
       "      <td>0</td>\n",
       "      <td>0</td>\n",
       "      <td>0</td>\n",
       "      <td>0</td>\n",
       "      <td>0</td>\n",
       "      <td>1</td>\n",
       "      <td>0</td>\n",
       "      <td>0</td>\n",
       "      <td>0</td>\n",
       "      <td>0</td>\n",
       "      <td>4.882802</td>\n",
       "      <td>3</td>\n",
       "      <td>9</td>\n",
       "    </tr>\n",
       "    <tr>\n",
       "      <th>3</th>\n",
       "      <td>1995-04-01</td>\n",
       "      <td>129</td>\n",
       "      <td>1995</td>\n",
       "      <td>1</td>\n",
       "      <td>0</td>\n",
       "      <td>0</td>\n",
       "      <td>0</td>\n",
       "      <td>0</td>\n",
       "      <td>0</td>\n",
       "      <td>0</td>\n",
       "      <td>0</td>\n",
       "      <td>0</td>\n",
       "      <td>0</td>\n",
       "      <td>0</td>\n",
       "      <td>0</td>\n",
       "      <td>4.859812</td>\n",
       "      <td>4</td>\n",
       "      <td>16</td>\n",
       "    </tr>\n",
       "    <tr>\n",
       "      <th>4</th>\n",
       "      <td>1995-05-01</td>\n",
       "      <td>121</td>\n",
       "      <td>1995</td>\n",
       "      <td>0</td>\n",
       "      <td>0</td>\n",
       "      <td>0</td>\n",
       "      <td>0</td>\n",
       "      <td>0</td>\n",
       "      <td>0</td>\n",
       "      <td>0</td>\n",
       "      <td>0</td>\n",
       "      <td>1</td>\n",
       "      <td>0</td>\n",
       "      <td>0</td>\n",
       "      <td>0</td>\n",
       "      <td>4.795791</td>\n",
       "      <td>5</td>\n",
       "      <td>25</td>\n",
       "    </tr>\n",
       "  </tbody>\n",
       "</table>\n",
       "</div>"
      ],
      "text/plain": [
       "       Month  Passengers  year  month_Apr  month_Aug  month_Dec  month_Feb  \\\n",
       "0 1995-01-01         112  1995          0          0          0          0   \n",
       "1 1995-02-01         118  1995          0          0          0          1   \n",
       "2 1995-03-01         132  1995          0          0          0          0   \n",
       "3 1995-04-01         129  1995          1          0          0          0   \n",
       "4 1995-05-01         121  1995          0          0          0          0   \n",
       "\n",
       "   month_Jan  month_Jul  month_Jun  month_Mar  month_May  month_Nov  \\\n",
       "0          1          0          0          0          0          0   \n",
       "1          0          0          0          0          0          0   \n",
       "2          0          0          0          1          0          0   \n",
       "3          0          0          0          0          0          0   \n",
       "4          0          0          0          0          1          0   \n",
       "\n",
       "   month_Oct  month_Sep  log_passengers  t  t_sqr  \n",
       "0          0          0        4.718499  1      1  \n",
       "1          0          0        4.770685  2      4  \n",
       "2          0          0        4.882802  3      9  \n",
       "3          0          0        4.859812  4     16  \n",
       "4          0          0        4.795791  5     25  "
      ]
     },
     "execution_count": 116,
     "metadata": {},
     "output_type": "execute_result"
    }
   ],
   "source": [
    "airline1.head()"
   ]
  },
  {
   "cell_type": "markdown",
   "id": "d4723b9f",
   "metadata": {},
   "source": [
    "### Split Train and Test"
   ]
  },
  {
   "cell_type": "code",
   "execution_count": 117,
   "id": "35cd45ff",
   "metadata": {},
   "outputs": [],
   "source": [
    "Train = airline1.head(84)\n",
    "Test = airline1.tail(12)"
   ]
  },
  {
   "cell_type": "markdown",
   "id": "0a743193",
   "metadata": {},
   "source": [
    "### Model Bbuilding"
   ]
  },
  {
   "cell_type": "code",
   "execution_count": 118,
   "id": "ce6a2ee4",
   "metadata": {},
   "outputs": [],
   "source": [
    "def MAE(pred,org):\n",
    "    temp = np.abs((pred-org)/org)\n",
    "    return np.mean(temp)"
   ]
  },
  {
   "cell_type": "code",
   "execution_count": 119,
   "id": "e4195c62",
   "metadata": {},
   "outputs": [
    {
     "data": {
      "text/plain": [
       "0.12875898544471479"
      ]
     },
     "execution_count": 119,
     "metadata": {},
     "output_type": "execute_result"
    }
   ],
   "source": [
    "#Linear Model\n",
    "import statsmodels.formula.api as smf \n",
    "\n",
    "linear_model = smf.ols('Passengers~t',data=Train).fit()                                                              #Fit the train model\n",
    "pred_linear =  pd.Series(linear_model.predict(pd.DataFrame(Test['t'])))                                              #predict on test data   \n",
    "mae_linear = MAE(Test['Passengers'],pred_linear)                                                                     #calculate eoot mean sqr error \n",
    "mae_linear"
   ]
  },
  {
   "cell_type": "code",
   "execution_count": 120,
   "id": "eb4a1885",
   "metadata": {},
   "outputs": [
    {
     "data": {
      "text/plain": [
       "0.11102459391985826"
      ]
     },
     "execution_count": 120,
     "metadata": {},
     "output_type": "execute_result"
    }
   ],
   "source": [
    "#Exponential\n",
    "\n",
    "Exp = smf.ols('log_passengers~t',data=Train).fit()\n",
    "pred_Exp = pd.Series(Exp.predict(pd.DataFrame(Test['t'])))\n",
    "mae_Exp = MAE(Test['Passengers'], np.exp(pred_Exp))\n",
    "mae_Exp"
   ]
  },
  {
   "cell_type": "code",
   "execution_count": 121,
   "id": "0bb781c4",
   "metadata": {},
   "outputs": [
    {
     "data": {
      "text/plain": [
       "0.11838168080315846"
      ]
     },
     "execution_count": 121,
     "metadata": {},
     "output_type": "execute_result"
    }
   ],
   "source": [
    "#Quadratic \n",
    "\n",
    "Quad = smf.ols('Passengers~t+t_sqr',data=Train).fit()\n",
    "pred_Quad = pd.Series(Quad.predict(Test[[\"t\",\"t_sqr\"]]))\n",
    "mae_Quad = MAE(Test['Passengers'],pred_Quad)\n",
    "mae_Quad"
   ]
  },
  {
   "cell_type": "code",
   "execution_count": 122,
   "id": "1fcd3d19",
   "metadata": {},
   "outputs": [
    {
     "data": {
      "text/plain": [
       "0.6601957591766384"
      ]
     },
     "execution_count": 122,
     "metadata": {},
     "output_type": "execute_result"
    }
   ],
   "source": [
    "#Additive seasonality \n",
    "\n",
    "add_sea = smf.ols('Passengers~month_Jan+month_Feb+month_Mar+month_Apr+month_May+month_Jun+month_Jul+month_Aug+month_Sep+month_Oct+month_Nov',data=Train).fit()\n",
    "pred_add_sea = pd.Series(add_sea.predict(Test[['month_Jan','month_Feb','month_Mar','month_Apr','month_May','month_Jun','month_Jul','month_Aug','month_Sep','month_Oct','month_Nov']]))\n",
    "mae_add_sea = MAE(Test['Passengers'],pred_add_sea)\n",
    "mae_add_sea"
   ]
  },
  {
   "cell_type": "code",
   "execution_count": 123,
   "id": "d9f72321",
   "metadata": {},
   "outputs": [
    {
     "data": {
      "text/plain": [
       "0.055710861779884886"
      ]
     },
     "execution_count": 123,
     "metadata": {},
     "output_type": "execute_result"
    }
   ],
   "source": [
    "#Additive Seasonality Quadratic \n",
    "\n",
    "add_sea_Quad = smf.ols('Passengers~t+t_sqr+month_Jan+month_Feb+month_Mar+month_Apr+month_May+month_Jun+month_Jul+month_Aug+month_Sep+month_Oct+month_Nov',data=Train).fit()\n",
    "pred_add_sea_quad = pd.Series(add_sea_Quad.predict(Test[['month_Jan','month_Feb','month_Mar','month_Apr','month_May','month_Jun','month_Jul','month_Aug','month_Sep','month_Oct','month_Nov','t','t_sqr']]))\n",
    "mae_add_sea_quad = MAE(Test['Passengers'], pred_add_sea_quad)\n",
    "mae_add_sea_quad"
   ]
  },
  {
   "cell_type": "code",
   "execution_count": 124,
   "id": "ec6d83a3",
   "metadata": {},
   "outputs": [
    {
     "data": {
      "text/plain": [
       "0.7218240575033866"
      ]
     },
     "execution_count": 124,
     "metadata": {},
     "output_type": "execute_result"
    }
   ],
   "source": [
    "#Multiplicative Seasonality\n",
    "\n",
    "Mul_sea = smf.ols('log_passengers~month_Jan+month_Feb+month_Mar+month_Apr+month_May+month_Jun+month_Jul+month_Aug+month_Sep+month_Oct+month_Nov',data = Train).fit()\n",
    "pred_Mult_sea = pd.Series(Mul_sea.predict(Test))\n",
    "mae_Mult_sea = MAE(Test['Passengers'], np.exp(pred_Mult_sea))\n",
    "mae_Mult_sea"
   ]
  },
  {
   "cell_type": "code",
   "execution_count": 125,
   "id": "f4d385a6",
   "metadata": {},
   "outputs": [
    {
     "data": {
      "text/plain": [
       "0.024187475026051147"
      ]
     },
     "execution_count": 125,
     "metadata": {},
     "output_type": "execute_result"
    }
   ],
   "source": [
    "#Multiplicative Additive Seasonality \n",
    "\n",
    "Mul_Add_sea = smf.ols('log_passengers~t+month_Jan+month_Feb+month_Mar+month_Apr+month_May+month_Jun+month_Jul+month_Aug+month_Sep+month_Oct+month_Nov',data = Train).fit()\n",
    "pred_Mult_add_sea = pd.Series(Mul_Add_sea.predict(Test))\n",
    "mae_Mult_add_sea = MAE(Test['Passengers'], np.exp(pred_Mult_add_sea))\n",
    "mae_Mult_add_sea "
   ]
  },
  {
   "cell_type": "markdown",
   "id": "3860677f",
   "metadata": {},
   "source": [
    "# Forecasting by Data driven Model"
   ]
  },
  {
   "cell_type": "code",
   "execution_count": 126,
   "id": "ee20fbd3",
   "metadata": {},
   "outputs": [],
   "source": [
    "from statsmodels.tsa.seasonal import seasonal_decompose\n",
    "from statsmodels.tsa.holtwinters import SimpleExpSmoothing # SES\n",
    "from statsmodels.tsa.holtwinters import Holt # Holts Exponential Smoothing\n",
    "from statsmodels.tsa.holtwinters import ExponentialSmoothing"
   ]
  },
  {
   "cell_type": "code",
   "execution_count": 127,
   "id": "311dc54e",
   "metadata": {},
   "outputs": [
    {
     "data": {
      "text/html": [
       "<div>\n",
       "<style scoped>\n",
       "    .dataframe tbody tr th:only-of-type {\n",
       "        vertical-align: middle;\n",
       "    }\n",
       "\n",
       "    .dataframe tbody tr th {\n",
       "        vertical-align: top;\n",
       "    }\n",
       "\n",
       "    .dataframe thead th {\n",
       "        text-align: right;\n",
       "    }\n",
       "</style>\n",
       "<table border=\"1\" class=\"dataframe\">\n",
       "  <thead>\n",
       "    <tr style=\"text-align: right;\">\n",
       "      <th></th>\n",
       "      <th>Month</th>\n",
       "      <th>Passengers</th>\n",
       "      <th>month</th>\n",
       "      <th>year</th>\n",
       "    </tr>\n",
       "  </thead>\n",
       "  <tbody>\n",
       "    <tr>\n",
       "      <th>0</th>\n",
       "      <td>1995-01-01</td>\n",
       "      <td>112</td>\n",
       "      <td>Jan</td>\n",
       "      <td>1995</td>\n",
       "    </tr>\n",
       "    <tr>\n",
       "      <th>1</th>\n",
       "      <td>1995-02-01</td>\n",
       "      <td>118</td>\n",
       "      <td>Feb</td>\n",
       "      <td>1995</td>\n",
       "    </tr>\n",
       "    <tr>\n",
       "      <th>2</th>\n",
       "      <td>1995-03-01</td>\n",
       "      <td>132</td>\n",
       "      <td>Mar</td>\n",
       "      <td>1995</td>\n",
       "    </tr>\n",
       "    <tr>\n",
       "      <th>3</th>\n",
       "      <td>1995-04-01</td>\n",
       "      <td>129</td>\n",
       "      <td>Apr</td>\n",
       "      <td>1995</td>\n",
       "    </tr>\n",
       "    <tr>\n",
       "      <th>4</th>\n",
       "      <td>1995-05-01</td>\n",
       "      <td>121</td>\n",
       "      <td>May</td>\n",
       "      <td>1995</td>\n",
       "    </tr>\n",
       "  </tbody>\n",
       "</table>\n",
       "</div>"
      ],
      "text/plain": [
       "       Month  Passengers month  year\n",
       "0 1995-01-01         112   Jan  1995\n",
       "1 1995-02-01         118   Feb  1995\n",
       "2 1995-03-01         132   Mar  1995\n",
       "3 1995-04-01         129   Apr  1995\n",
       "4 1995-05-01         121   May  1995"
      ]
     },
     "execution_count": 127,
     "metadata": {},
     "output_type": "execute_result"
    }
   ],
   "source": [
    "airline.head()"
   ]
  },
  {
   "cell_type": "code",
   "execution_count": 128,
   "id": "8ec60935",
   "metadata": {},
   "outputs": [],
   "source": [
    "Train = airline.head(84)\n",
    "Test = airline.tail(12)"
   ]
  },
  {
   "cell_type": "code",
   "execution_count": 129,
   "id": "2d6bba76",
   "metadata": {},
   "outputs": [
    {
     "data": {
      "text/plain": [
       "0.1341127474051382"
      ]
     },
     "execution_count": 129,
     "metadata": {},
     "output_type": "execute_result"
    }
   ],
   "source": [
    "#Simple Exponential Method\n",
    "\n",
    "ses_model = SimpleExpSmoothing(Train[\"Passengers\"]).fit(smoothing_level=0.2)\n",
    "pred_ses = ses_model.predict(start = Test.index[0],end = Test.index[-1])\n",
    "MAE_ses = MAE(pred_ses,Test.Passengers) \n",
    "MAE_ses"
   ]
  },
  {
   "cell_type": "code",
   "execution_count": 130,
   "id": "acd678a5",
   "metadata": {},
   "outputs": [
    {
     "name": "stderr",
     "output_type": "stream",
     "text": [
      "C:\\Users\\USER\\AppData\\Local\\Temp/ipykernel_556/200631384.py:2: FutureWarning: the 'smoothing_slope'' keyword is deprecated, use 'smoothing_trend' instead\n",
      "  hw_model = Holt(Train[\"Passengers\"]).fit(smoothing_level=0.8, smoothing_slope=0.2)\n"
     ]
    },
    {
     "data": {
      "text/plain": [
       "0.23530719652100496"
      ]
     },
     "execution_count": 130,
     "metadata": {},
     "output_type": "execute_result"
    }
   ],
   "source": [
    "# Holt method \n",
    "hw_model = Holt(Train[\"Passengers\"]).fit(smoothing_level=0.8, smoothing_slope=0.2)\n",
    "pred_hw = hw_model.predict(start = Test.index[0],end = Test.index[-1])\n",
    "MAE_hw = MAE(pred_hw,Test.Passengers) \n",
    "MAE_hw"
   ]
  },
  {
   "cell_type": "code",
   "execution_count": 131,
   "id": "4e076765",
   "metadata": {},
   "outputs": [
    {
     "data": {
      "text/plain": [
       "0.05734104506475249"
      ]
     },
     "execution_count": 131,
     "metadata": {},
     "output_type": "execute_result"
    }
   ],
   "source": [
    "#Holts winter exponential smoothing with additive seasonality and additive trend\n",
    "hwe_model_add_add = ExponentialSmoothing(Train[\"Passengers\"],seasonal=\"add\",trend=\"add\",seasonal_periods=12).fit() #add the trend to the model\n",
    "pred_hwe_add_add = hwe_model_add_add.predict(start = Test.index[0],end = Test.index[-1])\n",
    "MAE__hwe_add_add = MAE(pred_hwe_add_add,Test.Passengers) \n",
    "MAE__hwe_add_add"
   ]
  },
  {
   "cell_type": "code",
   "execution_count": 132,
   "id": "e970e3ce",
   "metadata": {},
   "outputs": [
    {
     "data": {
      "text/plain": [
       "0.028211250300088822"
      ]
     },
     "execution_count": 132,
     "metadata": {},
     "output_type": "execute_result"
    }
   ],
   "source": [
    "#Holts winter exponential smoothing with multiplicative seasonality and additive trend\n",
    "\n",
    "hwe_model_mul_add = ExponentialSmoothing(Train[\"Passengers\"],seasonal=\"mul\",trend=\"add\",seasonal_periods=12).fit() \n",
    "pred_hwe_mul_add = hwe_model_mul_add.predict(start = Test.index[0],end = Test.index[-1])\n",
    "MAE__hwe_mul_add = MAE(pred_hwe_mul_add,Test.Passengers)\n",
    "MAE__hwe_mul_add"
   ]
  },
  {
   "cell_type": "markdown",
   "id": "d9af08d0",
   "metadata": {},
   "source": [
    "# Forecasting by ARIMA Model"
   ]
  },
  {
   "cell_type": "code",
   "execution_count": 133,
   "id": "e67c4843",
   "metadata": {},
   "outputs": [],
   "source": [
    "from numpy import sqrt\n",
    "import warnings\n",
    "import itertools\n",
    "import statsmodels.api as sm"
   ]
  },
  {
   "cell_type": "code",
   "execution_count": 134,
   "id": "260c8465",
   "metadata": {},
   "outputs": [
    {
     "data": {
      "text/html": [
       "<div>\n",
       "<style scoped>\n",
       "    .dataframe tbody tr th:only-of-type {\n",
       "        vertical-align: middle;\n",
       "    }\n",
       "\n",
       "    .dataframe tbody tr th {\n",
       "        vertical-align: top;\n",
       "    }\n",
       "\n",
       "    .dataframe thead th {\n",
       "        text-align: right;\n",
       "    }\n",
       "</style>\n",
       "<table border=\"1\" class=\"dataframe\">\n",
       "  <thead>\n",
       "    <tr style=\"text-align: right;\">\n",
       "      <th></th>\n",
       "      <th>Passengers</th>\n",
       "    </tr>\n",
       "    <tr>\n",
       "      <th>Month</th>\n",
       "      <th></th>\n",
       "    </tr>\n",
       "  </thead>\n",
       "  <tbody>\n",
       "    <tr>\n",
       "      <th>1995-01-01</th>\n",
       "      <td>112</td>\n",
       "    </tr>\n",
       "    <tr>\n",
       "      <th>1995-02-01</th>\n",
       "      <td>118</td>\n",
       "    </tr>\n",
       "    <tr>\n",
       "      <th>1995-03-01</th>\n",
       "      <td>132</td>\n",
       "    </tr>\n",
       "    <tr>\n",
       "      <th>1995-04-01</th>\n",
       "      <td>129</td>\n",
       "    </tr>\n",
       "    <tr>\n",
       "      <th>1995-05-01</th>\n",
       "      <td>121</td>\n",
       "    </tr>\n",
       "  </tbody>\n",
       "</table>\n",
       "</div>"
      ],
      "text/plain": [
       "            Passengers\n",
       "Month                 \n",
       "1995-01-01         112\n",
       "1995-02-01         118\n",
       "1995-03-01         132\n",
       "1995-04-01         129\n",
       "1995-05-01         121"
      ]
     },
     "execution_count": 134,
     "metadata": {},
     "output_type": "execute_result"
    }
   ],
   "source": [
    "df_airline.head()"
   ]
  },
  {
   "cell_type": "code",
   "execution_count": 135,
   "id": "cd968a42",
   "metadata": {},
   "outputs": [
    {
     "name": "stdout",
     "output_type": "stream",
     "text": [
      "Dataset 84, Validation 12\n"
     ]
    }
   ],
   "source": [
    "# separate out a validation dataset\n",
    "split_point = len(df_airline) - 12\n",
    "dataset, validation = df_airline[0:split_point], df_airline[split_point:]\n",
    "print('Dataset %d, Validation %d' % (len(dataset), len(validation)))"
   ]
  },
  {
   "cell_type": "markdown",
   "id": "2874d94a",
   "metadata": {},
   "source": [
    "### Persistence/Base Model"
   ]
  },
  {
   "cell_type": "code",
   "execution_count": 136,
   "id": "f05119bb",
   "metadata": {},
   "outputs": [],
   "source": [
    "# evaluate a persistence model\n",
    "\n",
    "\n",
    "# prepare data\n",
    "X = dataset.values\n",
    "X = X.astype('float32')\n",
    "train_size = int(len(X) * 0.50)\n",
    "train, test = X[0:train_size], X[train_size:]"
   ]
  },
  {
   "cell_type": "code",
   "execution_count": 137,
   "id": "af728df4",
   "metadata": {},
   "outputs": [
    {
     "data": {
      "text/plain": [
       "(42, 42)"
      ]
     },
     "execution_count": 137,
     "metadata": {},
     "output_type": "execute_result"
    }
   ],
   "source": [
    "train.size, test.size"
   ]
  },
  {
   "cell_type": "code",
   "execution_count": 138,
   "id": "7cfd8e9b",
   "metadata": {},
   "outputs": [
    {
     "name": "stdout",
     "output_type": "stream",
     "text": [
      ">Predicted=218.000, Expected=230.000\n",
      ">Predicted=230.000, Expected=242.000\n",
      ">Predicted=242.000, Expected=209.000\n",
      ">Predicted=209.000, Expected=191.000\n",
      ">Predicted=191.000, Expected=172.000\n",
      ">Predicted=172.000, Expected=194.000\n",
      ">Predicted=194.000, Expected=196.000\n",
      ">Predicted=196.000, Expected=196.000\n",
      ">Predicted=196.000, Expected=236.000\n",
      ">Predicted=236.000, Expected=235.000\n",
      ">Predicted=235.000, Expected=229.000\n",
      ">Predicted=229.000, Expected=243.000\n",
      ">Predicted=243.000, Expected=264.000\n",
      ">Predicted=264.000, Expected=272.000\n",
      ">Predicted=272.000, Expected=237.000\n",
      ">Predicted=237.000, Expected=211.000\n",
      ">Predicted=211.000, Expected=180.000\n",
      ">Predicted=180.000, Expected=201.000\n",
      ">Predicted=201.000, Expected=204.000\n",
      ">Predicted=204.000, Expected=188.000\n",
      ">Predicted=188.000, Expected=235.000\n",
      ">Predicted=235.000, Expected=227.000\n",
      ">Predicted=227.000, Expected=234.000\n",
      ">Predicted=234.000, Expected=264.000\n",
      ">Predicted=264.000, Expected=302.000\n",
      ">Predicted=302.000, Expected=293.000\n",
      ">Predicted=293.000, Expected=259.000\n",
      ">Predicted=259.000, Expected=229.000\n",
      ">Predicted=229.000, Expected=203.000\n",
      ">Predicted=203.000, Expected=229.000\n",
      ">Predicted=229.000, Expected=242.000\n",
      ">Predicted=242.000, Expected=233.000\n",
      ">Predicted=233.000, Expected=267.000\n",
      ">Predicted=267.000, Expected=269.000\n",
      ">Predicted=269.000, Expected=270.000\n",
      ">Predicted=270.000, Expected=315.000\n",
      ">Predicted=315.000, Expected=364.000\n",
      ">Predicted=364.000, Expected=347.000\n",
      ">Predicted=347.000, Expected=312.000\n",
      ">Predicted=312.000, Expected=274.000\n",
      ">Predicted=274.000, Expected=237.000\n",
      ">Predicted=237.000, Expected=278.000\n",
      "MAE_base: 0.089\n"
     ]
    }
   ],
   "source": [
    "from sklearn.metrics import mean_squared_error\n",
    "# walk-forward validation\n",
    "history = [x for x in train]\n",
    "predictions = list()\n",
    "for i in range(len(test)):\n",
    "    yhat = history[-1]\n",
    "    predictions.append(yhat)\n",
    "    obs = test[i]\n",
    "    history.append(obs)\n",
    "    print('>Predicted=%.3f, Expected=%.3f' % (yhat, obs))\n",
    "# report performance\n",
    "MAE_base = MAE(predictions, test)\n",
    "print('MAE_base: %.3f' % MAE_base)"
   ]
  },
  {
   "cell_type": "markdown",
   "id": "3e2c3d72",
   "metadata": {},
   "source": [
    "### SARIMA Model"
   ]
  },
  {
   "cell_type": "code",
   "execution_count": 139,
   "id": "f25b5fb5",
   "metadata": {},
   "outputs": [],
   "source": [
    "df_airline = pd.read_excel('Airlines+Data.xlsx')"
   ]
  },
  {
   "cell_type": "code",
   "execution_count": 140,
   "id": "3fbab7df",
   "metadata": {},
   "outputs": [],
   "source": [
    "df_airline.set_index('Month',inplace=True)"
   ]
  },
  {
   "cell_type": "code",
   "execution_count": 141,
   "id": "f8e9b2b3",
   "metadata": {},
   "outputs": [
    {
     "data": {
      "text/html": [
       "<div>\n",
       "<style scoped>\n",
       "    .dataframe tbody tr th:only-of-type {\n",
       "        vertical-align: middle;\n",
       "    }\n",
       "\n",
       "    .dataframe tbody tr th {\n",
       "        vertical-align: top;\n",
       "    }\n",
       "\n",
       "    .dataframe thead th {\n",
       "        text-align: right;\n",
       "    }\n",
       "</style>\n",
       "<table border=\"1\" class=\"dataframe\">\n",
       "  <thead>\n",
       "    <tr style=\"text-align: right;\">\n",
       "      <th></th>\n",
       "      <th>Passengers</th>\n",
       "    </tr>\n",
       "    <tr>\n",
       "      <th>Month</th>\n",
       "      <th></th>\n",
       "    </tr>\n",
       "  </thead>\n",
       "  <tbody>\n",
       "    <tr>\n",
       "      <th>1995-01-01</th>\n",
       "      <td>112</td>\n",
       "    </tr>\n",
       "    <tr>\n",
       "      <th>1995-02-01</th>\n",
       "      <td>118</td>\n",
       "    </tr>\n",
       "    <tr>\n",
       "      <th>1995-03-01</th>\n",
       "      <td>132</td>\n",
       "    </tr>\n",
       "    <tr>\n",
       "      <th>1995-04-01</th>\n",
       "      <td>129</td>\n",
       "    </tr>\n",
       "    <tr>\n",
       "      <th>1995-05-01</th>\n",
       "      <td>121</td>\n",
       "    </tr>\n",
       "  </tbody>\n",
       "</table>\n",
       "</div>"
      ],
      "text/plain": [
       "            Passengers\n",
       "Month                 \n",
       "1995-01-01         112\n",
       "1995-02-01         118\n",
       "1995-03-01         132\n",
       "1995-04-01         129\n",
       "1995-05-01         121"
      ]
     },
     "execution_count": 141,
     "metadata": {},
     "output_type": "execute_result"
    }
   ],
   "source": [
    "df_airline.head()"
   ]
  },
  {
   "cell_type": "code",
   "execution_count": 142,
   "id": "19382882",
   "metadata": {},
   "outputs": [],
   "source": [
    "#performing test to check whether data is stationary or not\n",
    "from statsmodels.tsa.stattools import adfuller\n",
    "\n",
    "def adf_test(series):\n",
    "    result=adfuller(series)\n",
    "    print('ADF Statistics: {}'.format(result[0]))\n",
    "    print('p- value: {}'.format(result[1]))\n",
    "    if result[1] <= 0.05:\n",
    "        print(\"strong evidence against the null hypothesis, reject the null hypothesis. Data has no unit root and is stationary\")\n",
    "    else:\n",
    "        print(\"weak evidence against null hypothesis, time series has a unit root, indicating it is non-stationary \")"
   ]
  },
  {
   "cell_type": "code",
   "execution_count": 143,
   "id": "b99fe643",
   "metadata": {},
   "outputs": [
    {
     "name": "stdout",
     "output_type": "stream",
     "text": [
      "ADF Statistics: 1.3402479596467018\n",
      "p- value: 0.9968250481137263\n",
      "weak evidence against null hypothesis, time series has a unit root, indicating it is non-stationary \n"
     ]
    }
   ],
   "source": [
    "adf_test(df_airline['Passengers'])"
   ]
  },
  {
   "cell_type": "code",
   "execution_count": 144,
   "id": "07860d30",
   "metadata": {},
   "outputs": [],
   "source": [
    "## Use Techniques Differencing 1st time\n",
    "df_airline['Passengers First Difference']=df_airline['Passengers']-df_airline['Passengers'].shift(12)\n"
   ]
  },
  {
   "cell_type": "code",
   "execution_count": 145,
   "id": "a22edd5c",
   "metadata": {},
   "outputs": [
    {
     "data": {
      "text/html": [
       "<div>\n",
       "<style scoped>\n",
       "    .dataframe tbody tr th:only-of-type {\n",
       "        vertical-align: middle;\n",
       "    }\n",
       "\n",
       "    .dataframe tbody tr th {\n",
       "        vertical-align: top;\n",
       "    }\n",
       "\n",
       "    .dataframe thead th {\n",
       "        text-align: right;\n",
       "    }\n",
       "</style>\n",
       "<table border=\"1\" class=\"dataframe\">\n",
       "  <thead>\n",
       "    <tr style=\"text-align: right;\">\n",
       "      <th></th>\n",
       "      <th>Passengers</th>\n",
       "      <th>Passengers First Difference</th>\n",
       "    </tr>\n",
       "    <tr>\n",
       "      <th>Month</th>\n",
       "      <th></th>\n",
       "      <th></th>\n",
       "    </tr>\n",
       "  </thead>\n",
       "  <tbody>\n",
       "    <tr>\n",
       "      <th>1995-11-01</th>\n",
       "      <td>104</td>\n",
       "      <td>NaN</td>\n",
       "    </tr>\n",
       "    <tr>\n",
       "      <th>1995-12-01</th>\n",
       "      <td>118</td>\n",
       "      <td>NaN</td>\n",
       "    </tr>\n",
       "    <tr>\n",
       "      <th>1996-01-01</th>\n",
       "      <td>115</td>\n",
       "      <td>3.0</td>\n",
       "    </tr>\n",
       "    <tr>\n",
       "      <th>1996-02-01</th>\n",
       "      <td>126</td>\n",
       "      <td>8.0</td>\n",
       "    </tr>\n",
       "    <tr>\n",
       "      <th>1996-03-01</th>\n",
       "      <td>141</td>\n",
       "      <td>9.0</td>\n",
       "    </tr>\n",
       "    <tr>\n",
       "      <th>1996-04-01</th>\n",
       "      <td>135</td>\n",
       "      <td>6.0</td>\n",
       "    </tr>\n",
       "    <tr>\n",
       "      <th>1996-05-01</th>\n",
       "      <td>125</td>\n",
       "      <td>4.0</td>\n",
       "    </tr>\n",
       "    <tr>\n",
       "      <th>1996-06-01</th>\n",
       "      <td>149</td>\n",
       "      <td>14.0</td>\n",
       "    </tr>\n",
       "    <tr>\n",
       "      <th>1996-07-01</th>\n",
       "      <td>170</td>\n",
       "      <td>22.0</td>\n",
       "    </tr>\n",
       "    <tr>\n",
       "      <th>1996-08-01</th>\n",
       "      <td>170</td>\n",
       "      <td>22.0</td>\n",
       "    </tr>\n",
       "  </tbody>\n",
       "</table>\n",
       "</div>"
      ],
      "text/plain": [
       "            Passengers  Passengers First Difference\n",
       "Month                                              \n",
       "1995-11-01         104                          NaN\n",
       "1995-12-01         118                          NaN\n",
       "1996-01-01         115                          3.0\n",
       "1996-02-01         126                          8.0\n",
       "1996-03-01         141                          9.0\n",
       "1996-04-01         135                          6.0\n",
       "1996-05-01         125                          4.0\n",
       "1996-06-01         149                         14.0\n",
       "1996-07-01         170                         22.0\n",
       "1996-08-01         170                         22.0"
      ]
     },
     "execution_count": 145,
     "metadata": {},
     "output_type": "execute_result"
    }
   ],
   "source": [
    "df_airline.iloc[10:20]"
   ]
  },
  {
   "cell_type": "code",
   "execution_count": 146,
   "id": "e538b39a",
   "metadata": {},
   "outputs": [
    {
     "name": "stdout",
     "output_type": "stream",
     "text": [
      "ADF Statistics: -2.6900043838623167\n",
      "p- value: 0.07578397625851754\n",
      "weak evidence against null hypothesis, time series has a unit root, indicating it is non-stationary \n"
     ]
    }
   ],
   "source": [
    "adf_test(df_airline['Passengers First Difference'].dropna())"
   ]
  },
  {
   "cell_type": "code",
   "execution_count": 147,
   "id": "ed231275",
   "metadata": {},
   "outputs": [],
   "source": [
    "#Use techniques differencing 2nd time\n",
    "df_airline['Passengers Second Difference']=df_airline['Passengers First Difference']-df_airline['Passengers First Difference'].shift(12)"
   ]
  },
  {
   "cell_type": "code",
   "execution_count": 148,
   "id": "fcad83fd",
   "metadata": {},
   "outputs": [
    {
     "data": {
      "text/html": [
       "<div>\n",
       "<style scoped>\n",
       "    .dataframe tbody tr th:only-of-type {\n",
       "        vertical-align: middle;\n",
       "    }\n",
       "\n",
       "    .dataframe tbody tr th {\n",
       "        vertical-align: top;\n",
       "    }\n",
       "\n",
       "    .dataframe thead th {\n",
       "        text-align: right;\n",
       "    }\n",
       "</style>\n",
       "<table border=\"1\" class=\"dataframe\">\n",
       "  <thead>\n",
       "    <tr style=\"text-align: right;\">\n",
       "      <th></th>\n",
       "      <th>Passengers</th>\n",
       "      <th>Passengers First Difference</th>\n",
       "      <th>Passengers Second Difference</th>\n",
       "    </tr>\n",
       "    <tr>\n",
       "      <th>Month</th>\n",
       "      <th></th>\n",
       "      <th></th>\n",
       "      <th></th>\n",
       "    </tr>\n",
       "  </thead>\n",
       "  <tbody>\n",
       "    <tr>\n",
       "      <th>1996-09-01</th>\n",
       "      <td>158</td>\n",
       "      <td>22.0</td>\n",
       "      <td>NaN</td>\n",
       "    </tr>\n",
       "    <tr>\n",
       "      <th>1996-10-01</th>\n",
       "      <td>133</td>\n",
       "      <td>14.0</td>\n",
       "      <td>NaN</td>\n",
       "    </tr>\n",
       "    <tr>\n",
       "      <th>1996-11-01</th>\n",
       "      <td>114</td>\n",
       "      <td>10.0</td>\n",
       "      <td>NaN</td>\n",
       "    </tr>\n",
       "    <tr>\n",
       "      <th>1996-12-01</th>\n",
       "      <td>140</td>\n",
       "      <td>22.0</td>\n",
       "      <td>NaN</td>\n",
       "    </tr>\n",
       "    <tr>\n",
       "      <th>1997-01-01</th>\n",
       "      <td>145</td>\n",
       "      <td>30.0</td>\n",
       "      <td>27.0</td>\n",
       "    </tr>\n",
       "    <tr>\n",
       "      <th>1997-02-01</th>\n",
       "      <td>150</td>\n",
       "      <td>24.0</td>\n",
       "      <td>16.0</td>\n",
       "    </tr>\n",
       "    <tr>\n",
       "      <th>1997-03-01</th>\n",
       "      <td>178</td>\n",
       "      <td>37.0</td>\n",
       "      <td>28.0</td>\n",
       "    </tr>\n",
       "    <tr>\n",
       "      <th>1997-04-01</th>\n",
       "      <td>163</td>\n",
       "      <td>28.0</td>\n",
       "      <td>22.0</td>\n",
       "    </tr>\n",
       "    <tr>\n",
       "      <th>1997-05-01</th>\n",
       "      <td>172</td>\n",
       "      <td>47.0</td>\n",
       "      <td>43.0</td>\n",
       "    </tr>\n",
       "    <tr>\n",
       "      <th>1997-06-01</th>\n",
       "      <td>178</td>\n",
       "      <td>29.0</td>\n",
       "      <td>15.0</td>\n",
       "    </tr>\n",
       "  </tbody>\n",
       "</table>\n",
       "</div>"
      ],
      "text/plain": [
       "            Passengers  Passengers First Difference  \\\n",
       "Month                                                 \n",
       "1996-09-01         158                         22.0   \n",
       "1996-10-01         133                         14.0   \n",
       "1996-11-01         114                         10.0   \n",
       "1996-12-01         140                         22.0   \n",
       "1997-01-01         145                         30.0   \n",
       "1997-02-01         150                         24.0   \n",
       "1997-03-01         178                         37.0   \n",
       "1997-04-01         163                         28.0   \n",
       "1997-05-01         172                         47.0   \n",
       "1997-06-01         178                         29.0   \n",
       "\n",
       "            Passengers Second Difference  \n",
       "Month                                     \n",
       "1996-09-01                           NaN  \n",
       "1996-10-01                           NaN  \n",
       "1996-11-01                           NaN  \n",
       "1996-12-01                           NaN  \n",
       "1997-01-01                          27.0  \n",
       "1997-02-01                          16.0  \n",
       "1997-03-01                          28.0  \n",
       "1997-04-01                          22.0  \n",
       "1997-05-01                          43.0  \n",
       "1997-06-01                          15.0  "
      ]
     },
     "execution_count": 148,
     "metadata": {},
     "output_type": "execute_result"
    }
   ],
   "source": [
    "df_airline.iloc[20:30]"
   ]
  },
  {
   "cell_type": "code",
   "execution_count": 149,
   "id": "26108014",
   "metadata": {},
   "outputs": [
    {
     "name": "stdout",
     "output_type": "stream",
     "text": [
      "ADF Statistics: -2.1094801421381826\n",
      "p- value: 0.24071971540603815\n",
      "weak evidence against null hypothesis, time series has a unit root, indicating it is non-stationary \n"
     ]
    }
   ],
   "source": [
    "adf_test(df_airline['Passengers Second Difference'].dropna())"
   ]
  },
  {
   "cell_type": "code",
   "execution_count": 150,
   "id": "0d5f74c0",
   "metadata": {},
   "outputs": [],
   "source": [
    "#use techniques differencing 2nd time\n",
    "df_airline['Passengers Third Difference']=df_airline['Passengers Second Difference']-df_airline['Passengers Second Difference'].shift(12)"
   ]
  },
  {
   "cell_type": "code",
   "execution_count": 151,
   "id": "8bbeb7a6",
   "metadata": {},
   "outputs": [
    {
     "data": {
      "text/html": [
       "<div>\n",
       "<style scoped>\n",
       "    .dataframe tbody tr th:only-of-type {\n",
       "        vertical-align: middle;\n",
       "    }\n",
       "\n",
       "    .dataframe tbody tr th {\n",
       "        vertical-align: top;\n",
       "    }\n",
       "\n",
       "    .dataframe thead th {\n",
       "        text-align: right;\n",
       "    }\n",
       "</style>\n",
       "<table border=\"1\" class=\"dataframe\">\n",
       "  <thead>\n",
       "    <tr style=\"text-align: right;\">\n",
       "      <th></th>\n",
       "      <th>Passengers</th>\n",
       "      <th>Passengers First Difference</th>\n",
       "      <th>Passengers Second Difference</th>\n",
       "      <th>Passengers Third Difference</th>\n",
       "    </tr>\n",
       "    <tr>\n",
       "      <th>Month</th>\n",
       "      <th></th>\n",
       "      <th></th>\n",
       "      <th></th>\n",
       "      <th></th>\n",
       "    </tr>\n",
       "  </thead>\n",
       "  <tbody>\n",
       "    <tr>\n",
       "      <th>1997-07-01</th>\n",
       "      <td>199</td>\n",
       "      <td>29.0</td>\n",
       "      <td>7.0</td>\n",
       "      <td>NaN</td>\n",
       "    </tr>\n",
       "    <tr>\n",
       "      <th>1997-08-01</th>\n",
       "      <td>199</td>\n",
       "      <td>29.0</td>\n",
       "      <td>7.0</td>\n",
       "      <td>NaN</td>\n",
       "    </tr>\n",
       "    <tr>\n",
       "      <th>1997-09-01</th>\n",
       "      <td>184</td>\n",
       "      <td>26.0</td>\n",
       "      <td>4.0</td>\n",
       "      <td>NaN</td>\n",
       "    </tr>\n",
       "    <tr>\n",
       "      <th>1997-10-01</th>\n",
       "      <td>162</td>\n",
       "      <td>29.0</td>\n",
       "      <td>15.0</td>\n",
       "      <td>NaN</td>\n",
       "    </tr>\n",
       "    <tr>\n",
       "      <th>1997-11-01</th>\n",
       "      <td>146</td>\n",
       "      <td>32.0</td>\n",
       "      <td>22.0</td>\n",
       "      <td>NaN</td>\n",
       "    </tr>\n",
       "    <tr>\n",
       "      <th>1997-12-01</th>\n",
       "      <td>166</td>\n",
       "      <td>26.0</td>\n",
       "      <td>4.0</td>\n",
       "      <td>NaN</td>\n",
       "    </tr>\n",
       "    <tr>\n",
       "      <th>1998-01-01</th>\n",
       "      <td>171</td>\n",
       "      <td>26.0</td>\n",
       "      <td>-4.0</td>\n",
       "      <td>-31.0</td>\n",
       "    </tr>\n",
       "    <tr>\n",
       "      <th>1998-02-01</th>\n",
       "      <td>180</td>\n",
       "      <td>30.0</td>\n",
       "      <td>6.0</td>\n",
       "      <td>-10.0</td>\n",
       "    </tr>\n",
       "    <tr>\n",
       "      <th>1998-03-01</th>\n",
       "      <td>193</td>\n",
       "      <td>15.0</td>\n",
       "      <td>-22.0</td>\n",
       "      <td>-50.0</td>\n",
       "    </tr>\n",
       "    <tr>\n",
       "      <th>1998-04-01</th>\n",
       "      <td>181</td>\n",
       "      <td>18.0</td>\n",
       "      <td>-10.0</td>\n",
       "      <td>-32.0</td>\n",
       "    </tr>\n",
       "  </tbody>\n",
       "</table>\n",
       "</div>"
      ],
      "text/plain": [
       "            Passengers  Passengers First Difference  \\\n",
       "Month                                                 \n",
       "1997-07-01         199                         29.0   \n",
       "1997-08-01         199                         29.0   \n",
       "1997-09-01         184                         26.0   \n",
       "1997-10-01         162                         29.0   \n",
       "1997-11-01         146                         32.0   \n",
       "1997-12-01         166                         26.0   \n",
       "1998-01-01         171                         26.0   \n",
       "1998-02-01         180                         30.0   \n",
       "1998-03-01         193                         15.0   \n",
       "1998-04-01         181                         18.0   \n",
       "\n",
       "            Passengers Second Difference  Passengers Third Difference  \n",
       "Month                                                                  \n",
       "1997-07-01                           7.0                          NaN  \n",
       "1997-08-01                           7.0                          NaN  \n",
       "1997-09-01                           4.0                          NaN  \n",
       "1997-10-01                          15.0                          NaN  \n",
       "1997-11-01                          22.0                          NaN  \n",
       "1997-12-01                           4.0                          NaN  \n",
       "1998-01-01                          -4.0                        -31.0  \n",
       "1998-02-01                           6.0                        -10.0  \n",
       "1998-03-01                         -22.0                        -50.0  \n",
       "1998-04-01                         -10.0                        -32.0  "
      ]
     },
     "execution_count": 151,
     "metadata": {},
     "output_type": "execute_result"
    }
   ],
   "source": [
    "df_airline.iloc[30:40]"
   ]
  },
  {
   "cell_type": "code",
   "execution_count": 152,
   "id": "07c167bc",
   "metadata": {},
   "outputs": [
    {
     "name": "stdout",
     "output_type": "stream",
     "text": [
      "ADF Statistics: -4.893824055490131\n",
      "p- value: 3.5852657613943486e-05\n",
      "strong evidence against the null hypothesis, reject the null hypothesis. Data has no unit root and is stationary\n"
     ]
    }
   ],
   "source": [
    "adf_test(df_airline['Passengers Third Difference'].dropna())"
   ]
  },
  {
   "cell_type": "markdown",
   "id": "65094efb",
   "metadata": {},
   "source": [
    "#### We can perform ARIMA on Passangers Third Difference data as this is stationanry"
   ]
  },
  {
   "cell_type": "code",
   "execution_count": 153,
   "id": "b3519265",
   "metadata": {},
   "outputs": [
    {
     "data": {
      "image/png": "[encoded data removed]",
      "text/plain": [
       "<Figure size 432x288 with 1 Axes>"
      ]
     },
     "metadata": {
      "needs_background": "light"
     },
     "output_type": "display_data"
    }
   ],
   "source": [
    "acf = plot_acf(df_airline[\"Passengers Third Difference\"].dropna())   "
   ]
  },
  {
   "cell_type": "code",
   "execution_count": 154,
   "id": "30bc2af0",
   "metadata": {},
   "outputs": [
    {
     "name": "stderr",
     "output_type": "stream",
     "text": [
      "C:\\Users\\USER\\anaconda3\\lib\\site-packages\\statsmodels\\graphics\\tsaplots.py:348: FutureWarning: The default method 'yw' can produce PACF values outside of the [-1,1] interval. After 0.13, the default will change tounadjusted Yule-Walker ('ywm'). You can use this method now by setting method='ywm'.\n",
      "  warnings.warn(\n"
     ]
    },
    {
     "data": {
      "image/png": "[encoded data removed]",
      "text/plain": [
       "<Figure size 432x288 with 1 Axes>"
      ]
     },
     "metadata": {
      "needs_background": "light"
     },
     "output_type": "display_data"
    }
   ],
   "source": [
    "pacf = plot_pacf(df_airline[\"Passengers Third Difference\"].dropna()) "
   ]
  },
  {
   "cell_type": "code",
   "execution_count": 155,
   "id": "bcb7aad8",
   "metadata": {},
   "outputs": [],
   "source": [
    "from datetime import datetime,timedelta\n",
    "train_dataset_end=datetime(1999,12,1)\n",
    "test_dataset_end=datetime(2002,12,1)"
   ]
  },
  {
   "cell_type": "code",
   "execution_count": 156,
   "id": "9508bd0f",
   "metadata": {},
   "outputs": [],
   "source": [
    "\n",
    "train_data=df_airline[:train_dataset_end]\n",
    "test_data=df_airline[train_dataset_end+timedelta(days=1):test_dataset_end]"
   ]
  },
  {
   "cell_type": "code",
   "execution_count": 157,
   "id": "499c3266",
   "metadata": {},
   "outputs": [],
   "source": [
    "## create a SARIMA model as we are working with seasonal data\n",
    "from statsmodels.tsa.statespace.sarimax import SARIMAX"
   ]
  },
  {
   "cell_type": "code",
   "execution_count": 158,
   "id": "2727d0dc",
   "metadata": {},
   "outputs": [
    {
     "name": "stderr",
     "output_type": "stream",
     "text": [
      "C:\\Users\\USER\\anaconda3\\lib\\site-packages\\statsmodels\\tsa\\base\\tsa_model.py:471: ValueWarning: No frequency information was provided, so inferred frequency MS will be used.\n",
      "  self._init_dates(dates, freq)\n",
      "C:\\Users\\USER\\anaconda3\\lib\\site-packages\\statsmodels\\tsa\\base\\tsa_model.py:471: ValueWarning: No frequency information was provided, so inferred frequency MS will be used.\n",
      "  self._init_dates(dates, freq)\n"
     ]
    }
   ],
   "source": [
    "model_SARIMA=SARIMAX(train_data['Passengers'],order=(10,0,2),seasonal_order=(0,3,0,12))"
   ]
  },
  {
   "cell_type": "code",
   "execution_count": 159,
   "id": "853a7af8",
   "metadata": {},
   "outputs": [
    {
     "name": "stderr",
     "output_type": "stream",
     "text": [
      "C:\\Users\\USER\\anaconda3\\lib\\site-packages\\statsmodels\\base\\model.py:604: ConvergenceWarning: Maximum Likelihood optimization failed to converge. Check mle_retvals\n",
      "  warnings.warn(\"Maximum Likelihood optimization failed to \"\n"
     ]
    }
   ],
   "source": [
    "model_SARIMA_fit=model_SARIMA.fit()"
   ]
  },
  {
   "cell_type": "code",
   "execution_count": 160,
   "id": "cf94434f",
   "metadata": {},
   "outputs": [
    {
     "data": {
      "text/html": [
       "<table class=\"simpletable\">\n",
       "<caption>SARIMAX Results</caption>\n",
       "<tr>\n",
       "  <th>Dep. Variable:</th>              <td>Passengers</td>            <th>  No. Observations:  </th>    <td>60</td>   \n",
       "</tr>\n",
       "<tr>\n",
       "  <th>Model:</th>           <td>SARIMAX(10, 0, 2)x(0, 3, [], 12)</td> <th>  Log Likelihood     </th> <td>-106.783</td>\n",
       "</tr>\n",
       "<tr>\n",
       "  <th>Date:</th>                    <td>Tue, 25 Oct 2022</td>         <th>  AIC                </th>  <td>239.565</td>\n",
       "</tr>\n",
       "<tr>\n",
       "  <th>Time:</th>                        <td>18:14:26</td>             <th>  BIC                </th>  <td>254.880</td>\n",
       "</tr>\n",
       "<tr>\n",
       "  <th>Sample:</th>                     <td>01-01-1995</td>            <th>  HQIC               </th>  <td>243.628</td>\n",
       "</tr>\n",
       "<tr>\n",
       "  <th></th>                           <td>- 12-01-1999</td>           <th>                     </th>     <td> </td>   \n",
       "</tr>\n",
       "<tr>\n",
       "  <th>Covariance Type:</th>                <td>opg</td>               <th>                     </th>     <td> </td>   \n",
       "</tr>\n",
       "</table>\n",
       "<table class=\"simpletable\">\n",
       "<tr>\n",
       "     <td></td>       <th>coef</th>     <th>std err</th>      <th>z</th>      <th>P>|z|</th>  <th>[0.025</th>    <th>0.975]</th>  \n",
       "</tr>\n",
       "<tr>\n",
       "  <th>ar.L1</th>  <td>    0.5799</td> <td>    0.629</td> <td>    0.922</td> <td> 0.356</td> <td>   -0.652</td> <td>    1.812</td>\n",
       "</tr>\n",
       "<tr>\n",
       "  <th>ar.L2</th>  <td>    0.4939</td> <td>    0.714</td> <td>    0.691</td> <td> 0.489</td> <td>   -0.906</td> <td>    1.894</td>\n",
       "</tr>\n",
       "<tr>\n",
       "  <th>ar.L3</th>  <td>   -0.4801</td> <td>    0.616</td> <td>   -0.780</td> <td> 0.436</td> <td>   -1.687</td> <td>    0.727</td>\n",
       "</tr>\n",
       "<tr>\n",
       "  <th>ar.L4</th>  <td>    0.1986</td> <td>    0.546</td> <td>    0.363</td> <td> 0.716</td> <td>   -0.872</td> <td>    1.270</td>\n",
       "</tr>\n",
       "<tr>\n",
       "  <th>ar.L5</th>  <td>   -0.1637</td> <td>    0.484</td> <td>   -0.338</td> <td> 0.735</td> <td>   -1.112</td> <td>    0.784</td>\n",
       "</tr>\n",
       "<tr>\n",
       "  <th>ar.L6</th>  <td>   -0.0070</td> <td>    0.479</td> <td>   -0.015</td> <td> 0.988</td> <td>   -0.945</td> <td>    0.931</td>\n",
       "</tr>\n",
       "<tr>\n",
       "  <th>ar.L7</th>  <td>   -0.0391</td> <td>    0.584</td> <td>   -0.067</td> <td> 0.947</td> <td>   -1.184</td> <td>    1.106</td>\n",
       "</tr>\n",
       "<tr>\n",
       "  <th>ar.L8</th>  <td>   -0.0791</td> <td>    0.319</td> <td>   -0.248</td> <td> 0.804</td> <td>   -0.704</td> <td>    0.546</td>\n",
       "</tr>\n",
       "<tr>\n",
       "  <th>ar.L9</th>  <td>    0.3844</td> <td>    0.615</td> <td>    0.625</td> <td> 0.532</td> <td>   -0.821</td> <td>    1.590</td>\n",
       "</tr>\n",
       "<tr>\n",
       "  <th>ar.L10</th> <td>   -0.4761</td> <td>    0.439</td> <td>   -1.085</td> <td> 0.278</td> <td>   -1.336</td> <td>    0.384</td>\n",
       "</tr>\n",
       "<tr>\n",
       "  <th>ma.L1</th>  <td>    0.2005</td> <td>   12.468</td> <td>    0.016</td> <td> 0.987</td> <td>  -24.237</td> <td>   24.638</td>\n",
       "</tr>\n",
       "<tr>\n",
       "  <th>ma.L2</th>  <td>   -0.7815</td> <td>   10.160</td> <td>   -0.077</td> <td> 0.939</td> <td>  -20.695</td> <td>   19.132</td>\n",
       "</tr>\n",
       "<tr>\n",
       "  <th>sigma2</th> <td>   98.1737</td> <td> 1201.477</td> <td>    0.082</td> <td> 0.935</td> <td>-2256.679</td> <td> 2453.026</td>\n",
       "</tr>\n",
       "</table>\n",
       "<table class=\"simpletable\">\n",
       "<tr>\n",
       "  <th>Ljung-Box (L1) (Q):</th>     <td>1.22</td> <th>  Jarque-Bera (JB):  </th> <td>1.58</td> \n",
       "</tr>\n",
       "<tr>\n",
       "  <th>Prob(Q):</th>                <td>0.27</td> <th>  Prob(JB):          </th> <td>0.45</td> \n",
       "</tr>\n",
       "<tr>\n",
       "  <th>Heteroskedasticity (H):</th> <td>0.92</td> <th>  Skew:              </th> <td>-0.16</td>\n",
       "</tr>\n",
       "<tr>\n",
       "  <th>Prob(H) (two-sided):</th>    <td>0.91</td> <th>  Kurtosis:          </th> <td>1.78</td> \n",
       "</tr>\n",
       "</table><br/><br/>Warnings:<br/>[1] Covariance matrix calculated using the outer product of gradients (complex-step)."
      ],
      "text/plain": [
       "<class 'statsmodels.iolib.summary.Summary'>\n",
       "\"\"\"\n",
       "                                      SARIMAX Results                                       \n",
       "============================================================================================\n",
       "Dep. Variable:                           Passengers   No. Observations:                   60\n",
       "Model:             SARIMAX(10, 0, 2)x(0, 3, [], 12)   Log Likelihood                -106.783\n",
       "Date:                              Tue, 25 Oct 2022   AIC                            239.565\n",
       "Time:                                      18:14:26   BIC                            254.880\n",
       "Sample:                                  01-01-1995   HQIC                           243.628\n",
       "                                       - 12-01-1999                                         \n",
       "Covariance Type:                                opg                                         \n",
       "==============================================================================\n",
       "                 coef    std err          z      P>|z|      [0.025      0.975]\n",
       "------------------------------------------------------------------------------\n",
       "ar.L1          0.5799      0.629      0.922      0.356      -0.652       1.812\n",
       "ar.L2          0.4939      0.714      0.691      0.489      -0.906       1.894\n",
       "ar.L3         -0.4801      0.616     -0.780      0.436      -1.687       0.727\n",
       "ar.L4          0.1986      0.546      0.363      0.716      -0.872       1.270\n",
       "ar.L5         -0.1637      0.484     -0.338      0.735      -1.112       0.784\n",
       "ar.L6         -0.0070      0.479     -0.015      0.988      -0.945       0.931\n",
       "ar.L7         -0.0391      0.584     -0.067      0.947      -1.184       1.106\n",
       "ar.L8         -0.0791      0.319     -0.248      0.804      -0.704       0.546\n",
       "ar.L9          0.3844      0.615      0.625      0.532      -0.821       1.590\n",
       "ar.L10        -0.4761      0.439     -1.085      0.278      -1.336       0.384\n",
       "ma.L1          0.2005     12.468      0.016      0.987     -24.237      24.638\n",
       "ma.L2         -0.7815     10.160     -0.077      0.939     -20.695      19.132\n",
       "sigma2        98.1737   1201.477      0.082      0.935   -2256.679    2453.026\n",
       "===================================================================================\n",
       "Ljung-Box (L1) (Q):                   1.22   Jarque-Bera (JB):                 1.58\n",
       "Prob(Q):                              0.27   Prob(JB):                         0.45\n",
       "Heteroskedasticity (H):               0.92   Skew:                            -0.16\n",
       "Prob(H) (two-sided):                  0.91   Kurtosis:                         1.78\n",
       "===================================================================================\n",
       "\n",
       "Warnings:\n",
       "[1] Covariance matrix calculated using the outer product of gradients (complex-step).\n",
       "\"\"\""
      ]
     },
     "execution_count": 160,
     "metadata": {},
     "output_type": "execute_result"
    }
   ],
   "source": [
    "model_SARIMA_fit.summary()"
   ]
  },
  {
   "cell_type": "code",
   "execution_count": 161,
   "id": "1c8ea19f",
   "metadata": {},
   "outputs": [
    {
     "data": {
      "text/html": [
       "<div>\n",
       "<style scoped>\n",
       "    .dataframe tbody tr th:only-of-type {\n",
       "        vertical-align: middle;\n",
       "    }\n",
       "\n",
       "    .dataframe tbody tr th {\n",
       "        vertical-align: top;\n",
       "    }\n",
       "\n",
       "    .dataframe thead th {\n",
       "        text-align: right;\n",
       "    }\n",
       "</style>\n",
       "<table border=\"1\" class=\"dataframe\">\n",
       "  <thead>\n",
       "    <tr style=\"text-align: right;\">\n",
       "      <th></th>\n",
       "      <th>Passengers</th>\n",
       "      <th>Passengers First Difference</th>\n",
       "      <th>Passengers Second Difference</th>\n",
       "      <th>Passengers Third Difference</th>\n",
       "    </tr>\n",
       "    <tr>\n",
       "      <th>Month</th>\n",
       "      <th></th>\n",
       "      <th></th>\n",
       "      <th></th>\n",
       "      <th></th>\n",
       "    </tr>\n",
       "  </thead>\n",
       "  <tbody>\n",
       "    <tr>\n",
       "      <th>2002-08-01</th>\n",
       "      <td>405</td>\n",
       "      <td>58.0</td>\n",
       "      <td>4.0</td>\n",
       "      <td>-29.0</td>\n",
       "    </tr>\n",
       "    <tr>\n",
       "      <th>2002-09-01</th>\n",
       "      <td>355</td>\n",
       "      <td>43.0</td>\n",
       "      <td>-10.0</td>\n",
       "      <td>-41.0</td>\n",
       "    </tr>\n",
       "    <tr>\n",
       "      <th>2002-10-01</th>\n",
       "      <td>306</td>\n",
       "      <td>32.0</td>\n",
       "      <td>-13.0</td>\n",
       "      <td>-40.0</td>\n",
       "    </tr>\n",
       "    <tr>\n",
       "      <th>2002-11-01</th>\n",
       "      <td>271</td>\n",
       "      <td>34.0</td>\n",
       "      <td>0.0</td>\n",
       "      <td>-11.0</td>\n",
       "    </tr>\n",
       "    <tr>\n",
       "      <th>2002-12-01</th>\n",
       "      <td>306</td>\n",
       "      <td>28.0</td>\n",
       "      <td>-21.0</td>\n",
       "      <td>-42.0</td>\n",
       "    </tr>\n",
       "  </tbody>\n",
       "</table>\n",
       "</div>"
      ],
      "text/plain": [
       "            Passengers  Passengers First Difference  \\\n",
       "Month                                                 \n",
       "2002-08-01         405                         58.0   \n",
       "2002-09-01         355                         43.0   \n",
       "2002-10-01         306                         32.0   \n",
       "2002-11-01         271                         34.0   \n",
       "2002-12-01         306                         28.0   \n",
       "\n",
       "            Passengers Second Difference  Passengers Third Difference  \n",
       "Month                                                                  \n",
       "2002-08-01                           4.0                        -29.0  \n",
       "2002-09-01                         -10.0                        -41.0  \n",
       "2002-10-01                         -13.0                        -40.0  \n",
       "2002-11-01                           0.0                        -11.0  \n",
       "2002-12-01                         -21.0                        -42.0  "
      ]
     },
     "execution_count": 161,
     "metadata": {},
     "output_type": "execute_result"
    }
   ],
   "source": [
    "test_data.tail()"
   ]
  },
  {
   "cell_type": "code",
   "execution_count": 162,
   "id": "d053264f",
   "metadata": {},
   "outputs": [
    {
     "name": "stdout",
     "output_type": "stream",
     "text": [
      "2000-01-01 00:00:00\n",
      "2002-12-01 00:00:00\n"
     ]
    }
   ],
   "source": [
    "#prediction\n",
    "pred_start_date=test_data.index[0]\n",
    "pred_end_date=test_data.index[-1]\n",
    "print(pred_start_date)\n",
    "print(pred_end_date)"
   ]
  },
  {
   "cell_type": "code",
   "execution_count": 163,
   "id": "80c9f594",
   "metadata": {},
   "outputs": [],
   "source": [
    "pred_Sarima=model_SARIMA_fit.predict(start=datetime(2000,1,1),end=datetime(2002,12,1))"
   ]
  },
  {
   "cell_type": "code",
   "execution_count": 164,
   "id": "e911477b",
   "metadata": {},
   "outputs": [
    {
     "data": {
      "text/plain": [
       "0.16040831026552216"
      ]
     },
     "execution_count": 164,
     "metadata": {},
     "output_type": "execute_result"
    }
   ],
   "source": [
    "MAE_Sarima = MAE(pred_Sarima, test_data['Passengers'])\n",
    "MAE_Sarima "
   ]
  },
  {
   "cell_type": "code",
   "execution_count": 165,
   "id": "d0420b86",
   "metadata": {},
   "outputs": [
    {
     "data": {
      "text/html": [
       "<div>\n",
       "<style scoped>\n",
       "    .dataframe tbody tr th:only-of-type {\n",
       "        vertical-align: middle;\n",
       "    }\n",
       "\n",
       "    .dataframe tbody tr th {\n",
       "        vertical-align: top;\n",
       "    }\n",
       "\n",
       "    .dataframe thead th {\n",
       "        text-align: right;\n",
       "    }\n",
       "</style>\n",
       "<table border=\"1\" class=\"dataframe\">\n",
       "  <thead>\n",
       "    <tr style=\"text-align: right;\">\n",
       "      <th></th>\n",
       "      <th>MODEL</th>\n",
       "      <th>MAE_Values</th>\n",
       "    </tr>\n",
       "  </thead>\n",
       "  <tbody>\n",
       "    <tr>\n",
       "      <th>6</th>\n",
       "      <td>MAE_Mult_add_sea</td>\n",
       "      <td>0.024187</td>\n",
       "    </tr>\n",
       "    <tr>\n",
       "      <th>10</th>\n",
       "      <td>MAE__hwe_mul_add</td>\n",
       "      <td>0.028211</td>\n",
       "    </tr>\n",
       "    <tr>\n",
       "      <th>4</th>\n",
       "      <td>MAE_add_sea_quad</td>\n",
       "      <td>0.055711</td>\n",
       "    </tr>\n",
       "    <tr>\n",
       "      <th>9</th>\n",
       "      <td>MAE_hwe_add_add</td>\n",
       "      <td>0.057341</td>\n",
       "    </tr>\n",
       "    <tr>\n",
       "      <th>11</th>\n",
       "      <td>MAE_base</td>\n",
       "      <td>0.089354</td>\n",
       "    </tr>\n",
       "    <tr>\n",
       "      <th>1</th>\n",
       "      <td>MAE_Exp</td>\n",
       "      <td>0.111025</td>\n",
       "    </tr>\n",
       "    <tr>\n",
       "      <th>2</th>\n",
       "      <td>MAE_Quad</td>\n",
       "      <td>0.118382</td>\n",
       "    </tr>\n",
       "    <tr>\n",
       "      <th>0</th>\n",
       "      <td>MAE_linear</td>\n",
       "      <td>0.128759</td>\n",
       "    </tr>\n",
       "    <tr>\n",
       "      <th>7</th>\n",
       "      <td>MAE_ses</td>\n",
       "      <td>0.134113</td>\n",
       "    </tr>\n",
       "    <tr>\n",
       "      <th>12</th>\n",
       "      <td>MAE_SARIMA</td>\n",
       "      <td>0.160408</td>\n",
       "    </tr>\n",
       "    <tr>\n",
       "      <th>8</th>\n",
       "      <td>MAE_hw</td>\n",
       "      <td>0.235307</td>\n",
       "    </tr>\n",
       "    <tr>\n",
       "      <th>3</th>\n",
       "      <td>MAE_add_sea</td>\n",
       "      <td>0.660196</td>\n",
       "    </tr>\n",
       "    <tr>\n",
       "      <th>5</th>\n",
       "      <td>MAE_Mult_sea</td>\n",
       "      <td>0.721824</td>\n",
       "    </tr>\n",
       "  </tbody>\n",
       "</table>\n",
       "</div>"
      ],
      "text/plain": [
       "               MODEL  MAE_Values\n",
       "6   MAE_Mult_add_sea    0.024187\n",
       "10  MAE__hwe_mul_add    0.028211\n",
       "4   MAE_add_sea_quad    0.055711\n",
       "9    MAE_hwe_add_add    0.057341\n",
       "11          MAE_base    0.089354\n",
       "1            MAE_Exp    0.111025\n",
       "2           MAE_Quad    0.118382\n",
       "0         MAE_linear    0.128759\n",
       "7            MAE_ses    0.134113\n",
       "12        MAE_SARIMA    0.160408\n",
       "8             MAE_hw    0.235307\n",
       "3        MAE_add_sea    0.660196\n",
       "5       MAE_Mult_sea    0.721824"
      ]
     },
     "execution_count": 165,
     "metadata": {},
     "output_type": "execute_result"
    }
   ],
   "source": [
    "#Compare the results \n",
    "\n",
    "data = {\"MODEL\":pd.Series([\"MAE_linear\",\"MAE_Exp\",\"MAE_Quad\",\"MAE_add_sea\",\"MAE_add_sea_quad\",\"MAE_Mult_sea\",\"MAE_Mult_add_sea\",\"MAE_ses\",\"MAE_hw\",\"MAE_hwe_add_add\",\"MAE__hwe_mul_add\",\"MAE_base\",\"MAE_SARIMA\"]),\"MAE_Values\":pd.Series([mae_linear,mae_Exp,mae_Quad,mae_add_sea,mae_add_sea_quad,mae_Mult_sea,mae_Mult_add_sea,MAE_ses,MAE_hw,MAE__hwe_add_add,MAE__hwe_mul_add,MAE_base,MAE_Sarima])}\n",
    "table_mae=pd.DataFrame(data)\n",
    "table_mae.sort_values(['MAE_Values'])"
   ]
  },
  {
   "cell_type": "markdown",
   "id": "4ed260e6",
   "metadata": {},
   "source": [
    "#### From all models, Multiplicative Additive Seasonality giving best results(Test MAE is low for this data)\n",
    "#### Let's build a model and forecast year of 2003"
   ]
  },
  {
   "cell_type": "markdown",
   "id": "d7a9d051",
   "metadata": {},
   "source": [
    "### Predict on new data"
   ]
  },
  {
   "cell_type": "code",
   "execution_count": 166,
   "id": "268a662c",
   "metadata": {},
   "outputs": [],
   "source": [
    "Test = airline1.tail(12)"
   ]
  },
  {
   "cell_type": "code",
   "execution_count": 167,
   "id": "9403f46d",
   "metadata": {},
   "outputs": [],
   "source": [
    "Test.to_csv('predict_data.csv')\n",
    "#Edited the test data a little to forecast passengers for year 2003"
   ]
  },
  {
   "cell_type": "code",
   "execution_count": 169,
   "id": "8e5c07df",
   "metadata": {},
   "outputs": [
    {
     "data": {
      "text/html": [
       "<div>\n",
       "<style scoped>\n",
       "    .dataframe tbody tr th:only-of-type {\n",
       "        vertical-align: middle;\n",
       "    }\n",
       "\n",
       "    .dataframe tbody tr th {\n",
       "        vertical-align: top;\n",
       "    }\n",
       "\n",
       "    .dataframe thead th {\n",
       "        text-align: right;\n",
       "    }\n",
       "</style>\n",
       "<table border=\"1\" class=\"dataframe\">\n",
       "  <thead>\n",
       "    <tr style=\"text-align: right;\">\n",
       "      <th></th>\n",
       "      <th>Unnamed: 0</th>\n",
       "      <th>Month</th>\n",
       "      <th>Passengers</th>\n",
       "      <th>year</th>\n",
       "      <th>month_Apr</th>\n",
       "      <th>month_Aug</th>\n",
       "      <th>month_Dec</th>\n",
       "      <th>month_Feb</th>\n",
       "      <th>month_Jan</th>\n",
       "      <th>month_Jul</th>\n",
       "      <th>month_Jun</th>\n",
       "      <th>month_Mar</th>\n",
       "      <th>month_May</th>\n",
       "      <th>month_Nov</th>\n",
       "      <th>month_Oct</th>\n",
       "      <th>month_Sep</th>\n",
       "      <th>log_passengers</th>\n",
       "      <th>t</th>\n",
       "      <th>t_sqr</th>\n",
       "    </tr>\n",
       "  </thead>\n",
       "  <tbody>\n",
       "    <tr>\n",
       "      <th>0</th>\n",
       "      <td>84</td>\n",
       "      <td>2002-01-01</td>\n",
       "      <td>284</td>\n",
       "      <td>2002</td>\n",
       "      <td>0</td>\n",
       "      <td>0</td>\n",
       "      <td>0</td>\n",
       "      <td>0</td>\n",
       "      <td>1</td>\n",
       "      <td>0</td>\n",
       "      <td>0</td>\n",
       "      <td>0</td>\n",
       "      <td>0</td>\n",
       "      <td>0</td>\n",
       "      <td>0</td>\n",
       "      <td>0</td>\n",
       "      <td>5.648974</td>\n",
       "      <td>85</td>\n",
       "      <td>7225</td>\n",
       "    </tr>\n",
       "    <tr>\n",
       "      <th>1</th>\n",
       "      <td>85</td>\n",
       "      <td>2002-02-01</td>\n",
       "      <td>277</td>\n",
       "      <td>2002</td>\n",
       "      <td>0</td>\n",
       "      <td>0</td>\n",
       "      <td>0</td>\n",
       "      <td>1</td>\n",
       "      <td>0</td>\n",
       "      <td>0</td>\n",
       "      <td>0</td>\n",
       "      <td>0</td>\n",
       "      <td>0</td>\n",
       "      <td>0</td>\n",
       "      <td>0</td>\n",
       "      <td>0</td>\n",
       "      <td>5.624018</td>\n",
       "      <td>86</td>\n",
       "      <td>7396</td>\n",
       "    </tr>\n",
       "    <tr>\n",
       "      <th>2</th>\n",
       "      <td>86</td>\n",
       "      <td>2002-03-01</td>\n",
       "      <td>317</td>\n",
       "      <td>2002</td>\n",
       "      <td>0</td>\n",
       "      <td>0</td>\n",
       "      <td>0</td>\n",
       "      <td>0</td>\n",
       "      <td>0</td>\n",
       "      <td>0</td>\n",
       "      <td>0</td>\n",
       "      <td>1</td>\n",
       "      <td>0</td>\n",
       "      <td>0</td>\n",
       "      <td>0</td>\n",
       "      <td>0</td>\n",
       "      <td>5.758902</td>\n",
       "      <td>87</td>\n",
       "      <td>7569</td>\n",
       "    </tr>\n",
       "    <tr>\n",
       "      <th>3</th>\n",
       "      <td>87</td>\n",
       "      <td>2002-04-01</td>\n",
       "      <td>313</td>\n",
       "      <td>2002</td>\n",
       "      <td>1</td>\n",
       "      <td>0</td>\n",
       "      <td>0</td>\n",
       "      <td>0</td>\n",
       "      <td>0</td>\n",
       "      <td>0</td>\n",
       "      <td>0</td>\n",
       "      <td>0</td>\n",
       "      <td>0</td>\n",
       "      <td>0</td>\n",
       "      <td>0</td>\n",
       "      <td>0</td>\n",
       "      <td>5.746203</td>\n",
       "      <td>88</td>\n",
       "      <td>7744</td>\n",
       "    </tr>\n",
       "    <tr>\n",
       "      <th>4</th>\n",
       "      <td>88</td>\n",
       "      <td>2002-05-01</td>\n",
       "      <td>318</td>\n",
       "      <td>2002</td>\n",
       "      <td>0</td>\n",
       "      <td>0</td>\n",
       "      <td>0</td>\n",
       "      <td>0</td>\n",
       "      <td>0</td>\n",
       "      <td>0</td>\n",
       "      <td>0</td>\n",
       "      <td>0</td>\n",
       "      <td>1</td>\n",
       "      <td>0</td>\n",
       "      <td>0</td>\n",
       "      <td>0</td>\n",
       "      <td>5.762051</td>\n",
       "      <td>89</td>\n",
       "      <td>7921</td>\n",
       "    </tr>\n",
       "  </tbody>\n",
       "</table>\n",
       "</div>"
      ],
      "text/plain": [
       "   Unnamed: 0       Month  Passengers  year  month_Apr  month_Aug  month_Dec  \\\n",
       "0          84  2002-01-01         284  2002          0          0          0   \n",
       "1          85  2002-02-01         277  2002          0          0          0   \n",
       "2          86  2002-03-01         317  2002          0          0          0   \n",
       "3          87  2002-04-01         313  2002          1          0          0   \n",
       "4          88  2002-05-01         318  2002          0          0          0   \n",
       "\n",
       "   month_Feb  month_Jan  month_Jul  month_Jun  month_Mar  month_May  \\\n",
       "0          0          1          0          0          0          0   \n",
       "1          1          0          0          0          0          0   \n",
       "2          0          0          0          0          1          0   \n",
       "3          0          0          0          0          0          0   \n",
       "4          0          0          0          0          0          1   \n",
       "\n",
       "   month_Nov  month_Oct  month_Sep  log_passengers   t  t_sqr  \n",
       "0          0          0          0        5.648974  85   7225  \n",
       "1          0          0          0        5.624018  86   7396  \n",
       "2          0          0          0        5.758902  87   7569  \n",
       "3          0          0          0        5.746203  88   7744  \n",
       "4          0          0          0        5.762051  89   7921  "
      ]
     },
     "execution_count": 169,
     "metadata": {},
     "output_type": "execute_result"
    }
   ],
   "source": [
    "#try to predict the data for the whole yearr of 2022\n",
    "predict_data = pd.read_csv('predict_data.csv')\n",
    "predict_data.head()"
   ]
  },
  {
   "cell_type": "code",
   "execution_count": 170,
   "id": "7b4770d1",
   "metadata": {},
   "outputs": [
    {
     "name": "stdout",
     "output_type": "stream",
     "text": [
      "<class 'pandas.core.frame.DataFrame'>\n",
      "RangeIndex: 12 entries, 0 to 11\n",
      "Data columns (total 19 columns):\n",
      " #   Column          Non-Null Count  Dtype  \n",
      "---  ------          --------------  -----  \n",
      " 0   Unnamed: 0      12 non-null     int64  \n",
      " 1   Month           12 non-null     object \n",
      " 2   Passengers      12 non-null     int64  \n",
      " 3   year            12 non-null     int64  \n",
      " 4   month_Apr       12 non-null     int64  \n",
      " 5   month_Aug       12 non-null     int64  \n",
      " 6   month_Dec       12 non-null     int64  \n",
      " 7   month_Feb       12 non-null     int64  \n",
      " 8   month_Jan       12 non-null     int64  \n",
      " 9   month_Jul       12 non-null     int64  \n",
      " 10  month_Jun       12 non-null     int64  \n",
      " 11  month_Mar       12 non-null     int64  \n",
      " 12  month_May       12 non-null     int64  \n",
      " 13  month_Nov       12 non-null     int64  \n",
      " 14  month_Oct       12 non-null     int64  \n",
      " 15  month_Sep       12 non-null     int64  \n",
      " 16  log_passengers  12 non-null     float64\n",
      " 17  t               12 non-null     int64  \n",
      " 18  t_sqr           12 non-null     int64  \n",
      "dtypes: float64(1), int64(17), object(1)\n",
      "memory usage: 1.9+ KB\n"
     ]
    }
   ],
   "source": [
    "predict_data.info()"
   ]
  },
  {
   "cell_type": "code",
   "execution_count": 171,
   "id": "42b9b76f",
   "metadata": {},
   "outputs": [],
   "source": [
    "#Convert Month column dtype to datetime64\n",
    "predict_data['Month'] = predict_data['Month'].astype(\"datetime64[ns]\")"
   ]
  },
  {
   "cell_type": "code",
   "execution_count": 173,
   "id": "66d10923",
   "metadata": {},
   "outputs": [
    {
     "name": "stdout",
     "output_type": "stream",
     "text": [
      "<class 'pandas.core.frame.DataFrame'>\n",
      "RangeIndex: 12 entries, 0 to 11\n",
      "Data columns (total 19 columns):\n",
      " #   Column          Non-Null Count  Dtype         \n",
      "---  ------          --------------  -----         \n",
      " 0   Unnamed: 0      12 non-null     int64         \n",
      " 1   Month           12 non-null     datetime64[ns]\n",
      " 2   Passengers      12 non-null     int64         \n",
      " 3   year            12 non-null     int64         \n",
      " 4   month_Apr       12 non-null     int64         \n",
      " 5   month_Aug       12 non-null     int64         \n",
      " 6   month_Dec       12 non-null     int64         \n",
      " 7   month_Feb       12 non-null     int64         \n",
      " 8   month_Jan       12 non-null     int64         \n",
      " 9   month_Jul       12 non-null     int64         \n",
      " 10  month_Jun       12 non-null     int64         \n",
      " 11  month_Mar       12 non-null     int64         \n",
      " 12  month_May       12 non-null     int64         \n",
      " 13  month_Nov       12 non-null     int64         \n",
      " 14  month_Oct       12 non-null     int64         \n",
      " 15  month_Sep       12 non-null     int64         \n",
      " 16  log_passengers  12 non-null     float64       \n",
      " 17  t               12 non-null     int64         \n",
      " 18  t_sqr           12 non-null     int64         \n",
      "dtypes: datetime64[ns](1), float64(1), int64(17)\n",
      "memory usage: 1.9 KB\n"
     ]
    }
   ],
   "source": [
    "predict_data.info()"
   ]
  },
  {
   "cell_type": "code",
   "execution_count": 174,
   "id": "454b7d5d",
   "metadata": {},
   "outputs": [],
   "source": [
    "#Build model on whole airline1 data with Multiplicative Additive Seasonality model\n",
    "final_model = smf.ols('log_passengers~t+month_Jan+month_Feb+month_Mar+month_Apr+month_May+month_Jun+month_Jul+month_Aug+month_Sep+month_Oct+month_Nov',data = airline1).fit()"
   ]
  },
  {
   "cell_type": "code",
   "execution_count": 175,
   "id": "199fa042",
   "metadata": {},
   "outputs": [
    {
     "data": {
      "text/plain": [
       "0     5.636031\n",
       "1     5.646556\n",
       "2     5.789735\n",
       "3     5.756882\n",
       "4     5.750359\n",
       "5     5.874202\n",
       "6     5.980456\n",
       "7     5.978339\n",
       "8     5.868100\n",
       "9     5.737989\n",
       "10    5.607538\n",
       "11    5.744085\n",
       "dtype: float64"
      ]
     },
     "execution_count": 175,
     "metadata": {},
     "output_type": "execute_result"
    }
   ],
   "source": [
    "#this give us log_passengers \n",
    "pred_new  = pd.Series(final_model.predict(predict_data))\n",
    "pred_new"
   ]
  },
  {
   "cell_type": "code",
   "execution_count": 176,
   "id": "7d96fdc0",
   "metadata": {},
   "outputs": [],
   "source": [
    "#Get number of passengers\n",
    "import math\n",
    "passengers = []\n",
    "for i in range(0,12):\n",
    "  passengers.append(round(math.exp(pred_new[i]),0))"
   ]
  },
  {
   "cell_type": "code",
   "execution_count": 177,
   "id": "0f46d382",
   "metadata": {},
   "outputs": [],
   "source": [
    "predict_data[\"Passengers\"] = passengers"
   ]
  },
  {
   "cell_type": "code",
   "execution_count": 178,
   "id": "6210c410",
   "metadata": {},
   "outputs": [],
   "source": [
    "predict_data[\"forecasted_log_passengers\"] = pd.Series(pred_new)"
   ]
  },
  {
   "cell_type": "code",
   "execution_count": 179,
   "id": "3a327242",
   "metadata": {},
   "outputs": [
    {
     "data": {
      "text/html": [
       "<div>\n",
       "<style scoped>\n",
       "    .dataframe tbody tr th:only-of-type {\n",
       "        vertical-align: middle;\n",
       "    }\n",
       "\n",
       "    .dataframe tbody tr th {\n",
       "        vertical-align: top;\n",
       "    }\n",
       "\n",
       "    .dataframe thead th {\n",
       "        text-align: right;\n",
       "    }\n",
       "</style>\n",
       "<table border=\"1\" class=\"dataframe\">\n",
       "  <thead>\n",
       "    <tr style=\"text-align: right;\">\n",
       "      <th></th>\n",
       "      <th>Unnamed: 0</th>\n",
       "      <th>Month</th>\n",
       "      <th>Passengers</th>\n",
       "      <th>year</th>\n",
       "      <th>month_Apr</th>\n",
       "      <th>month_Aug</th>\n",
       "      <th>month_Dec</th>\n",
       "      <th>month_Feb</th>\n",
       "      <th>month_Jan</th>\n",
       "      <th>month_Jul</th>\n",
       "      <th>month_Jun</th>\n",
       "      <th>month_Mar</th>\n",
       "      <th>month_May</th>\n",
       "      <th>month_Nov</th>\n",
       "      <th>month_Oct</th>\n",
       "      <th>month_Sep</th>\n",
       "      <th>log_passengers</th>\n",
       "      <th>t</th>\n",
       "      <th>t_sqr</th>\n",
       "      <th>forecasted_log_passengers</th>\n",
       "    </tr>\n",
       "  </thead>\n",
       "  <tbody>\n",
       "    <tr>\n",
       "      <th>0</th>\n",
       "      <td>84</td>\n",
       "      <td>2002-01-01</td>\n",
       "      <td>280.0</td>\n",
       "      <td>2002</td>\n",
       "      <td>0</td>\n",
       "      <td>0</td>\n",
       "      <td>0</td>\n",
       "      <td>0</td>\n",
       "      <td>1</td>\n",
       "      <td>0</td>\n",
       "      <td>0</td>\n",
       "      <td>0</td>\n",
       "      <td>0</td>\n",
       "      <td>0</td>\n",
       "      <td>0</td>\n",
       "      <td>0</td>\n",
       "      <td>5.648974</td>\n",
       "      <td>85</td>\n",
       "      <td>7225</td>\n",
       "      <td>5.636031</td>\n",
       "    </tr>\n",
       "    <tr>\n",
       "      <th>1</th>\n",
       "      <td>85</td>\n",
       "      <td>2002-02-01</td>\n",
       "      <td>283.0</td>\n",
       "      <td>2002</td>\n",
       "      <td>0</td>\n",
       "      <td>0</td>\n",
       "      <td>0</td>\n",
       "      <td>1</td>\n",
       "      <td>0</td>\n",
       "      <td>0</td>\n",
       "      <td>0</td>\n",
       "      <td>0</td>\n",
       "      <td>0</td>\n",
       "      <td>0</td>\n",
       "      <td>0</td>\n",
       "      <td>0</td>\n",
       "      <td>5.624018</td>\n",
       "      <td>86</td>\n",
       "      <td>7396</td>\n",
       "      <td>5.646556</td>\n",
       "    </tr>\n",
       "    <tr>\n",
       "      <th>2</th>\n",
       "      <td>86</td>\n",
       "      <td>2002-03-01</td>\n",
       "      <td>327.0</td>\n",
       "      <td>2002</td>\n",
       "      <td>0</td>\n",
       "      <td>0</td>\n",
       "      <td>0</td>\n",
       "      <td>0</td>\n",
       "      <td>0</td>\n",
       "      <td>0</td>\n",
       "      <td>0</td>\n",
       "      <td>1</td>\n",
       "      <td>0</td>\n",
       "      <td>0</td>\n",
       "      <td>0</td>\n",
       "      <td>0</td>\n",
       "      <td>5.758902</td>\n",
       "      <td>87</td>\n",
       "      <td>7569</td>\n",
       "      <td>5.789735</td>\n",
       "    </tr>\n",
       "    <tr>\n",
       "      <th>3</th>\n",
       "      <td>87</td>\n",
       "      <td>2002-04-01</td>\n",
       "      <td>316.0</td>\n",
       "      <td>2002</td>\n",
       "      <td>1</td>\n",
       "      <td>0</td>\n",
       "      <td>0</td>\n",
       "      <td>0</td>\n",
       "      <td>0</td>\n",
       "      <td>0</td>\n",
       "      <td>0</td>\n",
       "      <td>0</td>\n",
       "      <td>0</td>\n",
       "      <td>0</td>\n",
       "      <td>0</td>\n",
       "      <td>0</td>\n",
       "      <td>5.746203</td>\n",
       "      <td>88</td>\n",
       "      <td>7744</td>\n",
       "      <td>5.756882</td>\n",
       "    </tr>\n",
       "    <tr>\n",
       "      <th>4</th>\n",
       "      <td>88</td>\n",
       "      <td>2002-05-01</td>\n",
       "      <td>314.0</td>\n",
       "      <td>2002</td>\n",
       "      <td>0</td>\n",
       "      <td>0</td>\n",
       "      <td>0</td>\n",
       "      <td>0</td>\n",
       "      <td>0</td>\n",
       "      <td>0</td>\n",
       "      <td>0</td>\n",
       "      <td>0</td>\n",
       "      <td>1</td>\n",
       "      <td>0</td>\n",
       "      <td>0</td>\n",
       "      <td>0</td>\n",
       "      <td>5.762051</td>\n",
       "      <td>89</td>\n",
       "      <td>7921</td>\n",
       "      <td>5.750359</td>\n",
       "    </tr>\n",
       "  </tbody>\n",
       "</table>\n",
       "</div>"
      ],
      "text/plain": [
       "   Unnamed: 0      Month  Passengers  year  month_Apr  month_Aug  month_Dec  \\\n",
       "0          84 2002-01-01       280.0  2002          0          0          0   \n",
       "1          85 2002-02-01       283.0  2002          0          0          0   \n",
       "2          86 2002-03-01       327.0  2002          0          0          0   \n",
       "3          87 2002-04-01       316.0  2002          1          0          0   \n",
       "4          88 2002-05-01       314.0  2002          0          0          0   \n",
       "\n",
       "   month_Feb  month_Jan  month_Jul  month_Jun  month_Mar  month_May  \\\n",
       "0          0          1          0          0          0          0   \n",
       "1          1          0          0          0          0          0   \n",
       "2          0          0          0          0          1          0   \n",
       "3          0          0          0          0          0          0   \n",
       "4          0          0          0          0          0          1   \n",
       "\n",
       "   month_Nov  month_Oct  month_Sep  log_passengers   t  t_sqr  \\\n",
       "0          0          0          0        5.648974  85   7225   \n",
       "1          0          0          0        5.624018  86   7396   \n",
       "2          0          0          0        5.758902  87   7569   \n",
       "3          0          0          0        5.746203  88   7744   \n",
       "4          0          0          0        5.762051  89   7921   \n",
       "\n",
       "   forecasted_log_passengers  \n",
       "0                   5.636031  \n",
       "1                   5.646556  \n",
       "2                   5.789735  \n",
       "3                   5.756882  \n",
       "4                   5.750359  "
      ]
     },
     "execution_count": 179,
     "metadata": {},
     "output_type": "execute_result"
    }
   ],
   "source": [
    "predict_data.head()"
   ]
  },
  {
   "cell_type": "code",
   "execution_count": 180,
   "id": "1a647318",
   "metadata": {},
   "outputs": [
    {
     "data": {
      "text/html": [
       "<div>\n",
       "<style scoped>\n",
       "    .dataframe tbody tr th:only-of-type {\n",
       "        vertical-align: middle;\n",
       "    }\n",
       "\n",
       "    .dataframe tbody tr th {\n",
       "        vertical-align: top;\n",
       "    }\n",
       "\n",
       "    .dataframe thead th {\n",
       "        text-align: right;\n",
       "    }\n",
       "</style>\n",
       "<table border=\"1\" class=\"dataframe\">\n",
       "  <thead>\n",
       "    <tr style=\"text-align: right;\">\n",
       "      <th></th>\n",
       "      <th>Unnamed: 0</th>\n",
       "      <th>Month</th>\n",
       "      <th>Passengers</th>\n",
       "      <th>year</th>\n",
       "      <th>month_Apr</th>\n",
       "      <th>month_Aug</th>\n",
       "      <th>month_Dec</th>\n",
       "      <th>month_Feb</th>\n",
       "      <th>month_Jan</th>\n",
       "      <th>month_Jul</th>\n",
       "      <th>month_Jun</th>\n",
       "      <th>month_Mar</th>\n",
       "      <th>month_May</th>\n",
       "      <th>month_Nov</th>\n",
       "      <th>month_Oct</th>\n",
       "      <th>month_Sep</th>\n",
       "      <th>log_passengers</th>\n",
       "      <th>t</th>\n",
       "      <th>t_sqr</th>\n",
       "      <th>forecasted_log_passengers</th>\n",
       "    </tr>\n",
       "  </thead>\n",
       "  <tbody>\n",
       "    <tr>\n",
       "      <th>7</th>\n",
       "      <td>91</td>\n",
       "      <td>2002-08-01</td>\n",
       "      <td>395.0</td>\n",
       "      <td>2002</td>\n",
       "      <td>0</td>\n",
       "      <td>1</td>\n",
       "      <td>0</td>\n",
       "      <td>0</td>\n",
       "      <td>0</td>\n",
       "      <td>0</td>\n",
       "      <td>0</td>\n",
       "      <td>0</td>\n",
       "      <td>0</td>\n",
       "      <td>0</td>\n",
       "      <td>0</td>\n",
       "      <td>0</td>\n",
       "      <td>6.003887</td>\n",
       "      <td>92</td>\n",
       "      <td>8464</td>\n",
       "      <td>5.978339</td>\n",
       "    </tr>\n",
       "    <tr>\n",
       "      <th>8</th>\n",
       "      <td>92</td>\n",
       "      <td>2002-09-01</td>\n",
       "      <td>354.0</td>\n",
       "      <td>2002</td>\n",
       "      <td>0</td>\n",
       "      <td>0</td>\n",
       "      <td>0</td>\n",
       "      <td>0</td>\n",
       "      <td>0</td>\n",
       "      <td>0</td>\n",
       "      <td>0</td>\n",
       "      <td>0</td>\n",
       "      <td>0</td>\n",
       "      <td>0</td>\n",
       "      <td>0</td>\n",
       "      <td>1</td>\n",
       "      <td>5.872118</td>\n",
       "      <td>93</td>\n",
       "      <td>8649</td>\n",
       "      <td>5.868100</td>\n",
       "    </tr>\n",
       "    <tr>\n",
       "      <th>9</th>\n",
       "      <td>93</td>\n",
       "      <td>2002-10-01</td>\n",
       "      <td>310.0</td>\n",
       "      <td>2002</td>\n",
       "      <td>0</td>\n",
       "      <td>0</td>\n",
       "      <td>0</td>\n",
       "      <td>0</td>\n",
       "      <td>0</td>\n",
       "      <td>0</td>\n",
       "      <td>0</td>\n",
       "      <td>0</td>\n",
       "      <td>0</td>\n",
       "      <td>0</td>\n",
       "      <td>1</td>\n",
       "      <td>0</td>\n",
       "      <td>5.723585</td>\n",
       "      <td>94</td>\n",
       "      <td>8836</td>\n",
       "      <td>5.737989</td>\n",
       "    </tr>\n",
       "    <tr>\n",
       "      <th>10</th>\n",
       "      <td>94</td>\n",
       "      <td>2002-11-01</td>\n",
       "      <td>272.0</td>\n",
       "      <td>2002</td>\n",
       "      <td>0</td>\n",
       "      <td>0</td>\n",
       "      <td>0</td>\n",
       "      <td>0</td>\n",
       "      <td>0</td>\n",
       "      <td>0</td>\n",
       "      <td>0</td>\n",
       "      <td>0</td>\n",
       "      <td>0</td>\n",
       "      <td>1</td>\n",
       "      <td>0</td>\n",
       "      <td>0</td>\n",
       "      <td>5.602119</td>\n",
       "      <td>95</td>\n",
       "      <td>9025</td>\n",
       "      <td>5.607538</td>\n",
       "    </tr>\n",
       "    <tr>\n",
       "      <th>11</th>\n",
       "      <td>95</td>\n",
       "      <td>2002-12-01</td>\n",
       "      <td>312.0</td>\n",
       "      <td>2002</td>\n",
       "      <td>0</td>\n",
       "      <td>0</td>\n",
       "      <td>1</td>\n",
       "      <td>0</td>\n",
       "      <td>0</td>\n",
       "      <td>0</td>\n",
       "      <td>0</td>\n",
       "      <td>0</td>\n",
       "      <td>0</td>\n",
       "      <td>0</td>\n",
       "      <td>0</td>\n",
       "      <td>0</td>\n",
       "      <td>5.723585</td>\n",
       "      <td>96</td>\n",
       "      <td>9216</td>\n",
       "      <td>5.744085</td>\n",
       "    </tr>\n",
       "  </tbody>\n",
       "</table>\n",
       "</div>"
      ],
      "text/plain": [
       "    Unnamed: 0      Month  Passengers  year  month_Apr  month_Aug  month_Dec  \\\n",
       "7           91 2002-08-01       395.0  2002          0          1          0   \n",
       "8           92 2002-09-01       354.0  2002          0          0          0   \n",
       "9           93 2002-10-01       310.0  2002          0          0          0   \n",
       "10          94 2002-11-01       272.0  2002          0          0          0   \n",
       "11          95 2002-12-01       312.0  2002          0          0          1   \n",
       "\n",
       "    month_Feb  month_Jan  month_Jul  month_Jun  month_Mar  month_May  \\\n",
       "7           0          0          0          0          0          0   \n",
       "8           0          0          0          0          0          0   \n",
       "9           0          0          0          0          0          0   \n",
       "10          0          0          0          0          0          0   \n",
       "11          0          0          0          0          0          0   \n",
       "\n",
       "    month_Nov  month_Oct  month_Sep  log_passengers   t  t_sqr  \\\n",
       "7           0          0          0        6.003887  92   8464   \n",
       "8           0          0          1        5.872118  93   8649   \n",
       "9           0          1          0        5.723585  94   8836   \n",
       "10          1          0          0        5.602119  95   9025   \n",
       "11          0          0          0        5.723585  96   9216   \n",
       "\n",
       "    forecasted_log_passengers  \n",
       "7                    5.978339  \n",
       "8                    5.868100  \n",
       "9                    5.737989  \n",
       "10                   5.607538  \n",
       "11                   5.744085  "
      ]
     },
     "execution_count": 180,
     "metadata": {},
     "output_type": "execute_result"
    }
   ],
   "source": [
    "predict_data.tail()"
   ]
  },
  {
   "cell_type": "markdown",
   "id": "7eb10fdd",
   "metadata": {},
   "source": [
    "#### This is the predicted airline passangers data for whole year of 2003\n",
    "#### As observed that Aug & Sept have high passangers, we can observe a similar trend in predicted data as well."
   ]
  },
  {
   "cell_type": "markdown",
   "id": "4b17e376",
   "metadata": {},
   "source": [
    "### Reflect accuracy of model by plot"
   ]
  },
  {
   "cell_type": "code",
   "execution_count": 181,
   "id": "695e8c56",
   "metadata": {},
   "outputs": [
    {
     "data": {
      "text/plain": [
       "<AxesSubplot: >"
      ]
     },
     "execution_count": 181,
     "metadata": {},
     "output_type": "execute_result"
    },
    {
     "data": {
      "image/png": "[encoded data removed]",
      "text/plain": [
       "<Figure size 864x576 with 1 Axes>"
      ]
     },
     "metadata": {
      "needs_background": "light"
     },
     "output_type": "display_data"
    }
   ],
   "source": [
    "airline1['forecast_passengers']=np.exp(pd.Series(final_model.predict(airline1)))\n",
    "airline1[['forecast_passengers','Passengers']].plot(figsize=(12,8))"
   ]
  },
  {
   "cell_type": "code",
   "execution_count": null,
   "id": "6653e19b",
   "metadata": {},
   "outputs": [],
   "source": []
  }
 ],
 "metadata": {
  "kernelspec": {
   "display_name": "Python 3 (ipykernel)",
   "language": "python",
   "name": "python3"
  },
  "language_info": {
   "codemirror_mode": {
    "name": "ipython",
    "version": 3
   },
   "file_extension": ".py",
   "mimetype": "text/x-python",
   "name": "python",
   "nbconvert_exporter": "python",
   "pygments_lexer": "ipython3",
   "version": "3.9.7"
  }
 },
 "nbformat": 4,
 "nbformat_minor": 5
}
